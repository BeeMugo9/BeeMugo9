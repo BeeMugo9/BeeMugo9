{
  "nbformat": 4,
  "nbformat_minor": 5,
  "metadata": {
    "kernelspec": {
      "display_name": "Python 3",
      "language": "python",
      "name": "python3"
    },
    "language_info": {
      "codemirror_mode": {
        "name": "ipython",
        "version": 3
      },
      "file_extension": ".py",
      "mimetype": "text/x-python",
      "name": "python",
      "nbconvert_exporter": "python",
      "pygments_lexer": "ipython3",
      "version": "3.8.8"
    },
    "colab": {
      "provenance": [],
      "collapsed_sections": [
        "a6a3d218",
        "6970dd99",
        "9d75cfa2",
        "68f3b2c9",
        "fad2de2f",
        "27906576",
        "e5fdf0c8",
        "56b3dafd",
        "c7ee4907",
        "3f58c9a7",
        "5fed2eac",
        "f5c5258d",
        "359b12f8",
        "d9affc84",
        "353e9d24",
        "d49bfa2d",
        "8d585a90",
        "3acbc947"
      ],
      "include_colab_link": true
    }
  },
  "cells": [
    {
      "cell_type": "markdown",
      "metadata": {
        "id": "view-in-github",
        "colab_type": "text"
      },
      "source": [
        "<a href=\"https://colab.research.google.com/github/BeeMugo9/BeeMugo9/blob/main/Formulating_Hypotheses_and_Hypotheses_testing.ipynb\" target=\"_parent\"><img src=\"https://colab.research.google.com/assets/colab-badge.svg\" alt=\"Open In Colab\"/></a>"
      ]
    },
    {
      "cell_type": "markdown",
      "metadata": {
        "id": "SrLd-ICEmPSD"
      },
      "source": [
        "## Define Problem Statement and Objectives"
      ],
      "id": "SrLd-ICEmPSD"
    },
    {
      "cell_type": "markdown",
      "metadata": {
        "id": "9Vt1PLLqmXNn"
      },
      "source": [
        "#Business Context\n",
        "\n",
        "The advent of e-news, or electronic news, portals has offered us a great opportunity to quickly get updates on the day-to-day events occurring globally. The information on these portals is retrieved electronically from online databases, processed using a variety of software, and then transmitted to the users. There are multiple advantages of transmitting new electronically, like faster access to the content and the ability to utilize different technologies such as audio, graphics, video, and other interactive elements that are either not being used or aren’t common yet in traditional newspapers.\n",
        "\n",
        "E-news Express, an online news portal, aims to expand its business by acquiring new subscribers. With every visitor to the website taking certain actions based on their interest, the company plans to analyze these actions to understand user interests and determine how to drive better engagement. The executives at E-news Express are of the opinion that there has been a decline in new monthly subscribers compared to the past year because the current webpage is not designed well enough in terms of the outline & recommended content to keep customers engaged long enough to make a decision to subscribe.\n",
        "\n",
        "[Companies often analyze user responses to two variants of a product to decide which of the two variants is more effective. This experimental technique, known as A/B testing, is used to determine whether a new feature attracts users based on a chosen metric.]\n",
        "\n",
        "#Objective\n",
        "The design team of the company has researched and created a new landing page that has a new outline & more relevant content shown compared to the old page. In order to test the effectiveness of the new landing page in gathering new subscribers, the Data Science team conducted an experiment by randomly selecting 100 users and dividing them equally into two groups. The existing landing page was served to the first group (control group) and the new landing page to the second group (treatment group). Data regarding the interaction of users in both groups with the two versions of the landing page was collected. Being a data scientist in E-news Express, you have been asked to explore the data and perform a statistical analysis (at a significance level of 5%) to determine the effectiveness of the new landing page in gathering new subscribers for the news portal by answering the following questions:\n",
        "\n",
        "1. Do the users spend more time on the new landing page than on the existing landing page?\n",
        "\n",
        "2. Is the conversion rate (the proportion of users who visit the landing page and get converted) for the new page greater than the conversion rate for the old page?\n",
        "\n",
        "3. Does the converted status depend on the preferred language? [Hint: Create a contingency table using the pandas.crosstab() function]\n",
        "\n",
        "4. Is the time spent on the new page the same for the different language users?"
      ],
      "id": "9Vt1PLLqmXNn"
    },
    {
      "cell_type": "markdown",
      "metadata": {
        "id": "a6a3d218"
      },
      "source": [
        "## Import all the necessary libraries"
      ],
      "id": "a6a3d218"
    },
    {
      "cell_type": "code",
      "metadata": {
        "id": "658c5dec"
      },
      "source": [
        "# import libraries for data manipulation\n",
        "import numpy as np\n",
        "import pandas as pd\n",
        "\n",
        "# import libraries for data visualization\n",
        "import matplotlib.pyplot as plt\n",
        "import seaborn as sns\n",
        "%matplotlib inline\n",
        "import scipy.stats as stats"
      ],
      "id": "658c5dec",
      "execution_count": 1,
      "outputs": []
    },
    {
      "cell_type": "markdown",
      "metadata": {
        "id": "6970dd99"
      },
      "source": [
        "## Reading the Data into a DataFrame"
      ],
      "id": "6970dd99"
    },
    {
      "cell_type": "code",
      "metadata": {
        "id": "d3b95640",
        "colab": {
          "base_uri": "https://localhost:8080/",
          "height": 73
        },
        "outputId": "1ec73ca7-2f4a-4079-e088-58c24f512c9b"
      },
      "source": [
        "# upload files\n",
        "from google.colab import files\n",
        "uploaded = files.upload()"
      ],
      "id": "d3b95640",
      "execution_count": 2,
      "outputs": [
        {
          "output_type": "display_data",
          "data": {
            "text/plain": [
              "<IPython.core.display.HTML object>"
            ],
            "text/html": [
              "\n",
              "     <input type=\"file\" id=\"files-9f4689be-3974-42ab-bf1a-f24d7048635b\" name=\"files[]\" multiple disabled\n",
              "        style=\"border:none\" />\n",
              "     <output id=\"result-9f4689be-3974-42ab-bf1a-f24d7048635b\">\n",
              "      Upload widget is only available when the cell has been executed in the\n",
              "      current browser session. Please rerun this cell to enable.\n",
              "      </output>\n",
              "      <script>// Copyright 2017 Google LLC\n",
              "//\n",
              "// Licensed under the Apache License, Version 2.0 (the \"License\");\n",
              "// you may not use this file except in compliance with the License.\n",
              "// You may obtain a copy of the License at\n",
              "//\n",
              "//      http://www.apache.org/licenses/LICENSE-2.0\n",
              "//\n",
              "// Unless required by applicable law or agreed to in writing, software\n",
              "// distributed under the License is distributed on an \"AS IS\" BASIS,\n",
              "// WITHOUT WARRANTIES OR CONDITIONS OF ANY KIND, either express or implied.\n",
              "// See the License for the specific language governing permissions and\n",
              "// limitations under the License.\n",
              "\n",
              "/**\n",
              " * @fileoverview Helpers for google.colab Python module.\n",
              " */\n",
              "(function(scope) {\n",
              "function span(text, styleAttributes = {}) {\n",
              "  const element = document.createElement('span');\n",
              "  element.textContent = text;\n",
              "  for (const key of Object.keys(styleAttributes)) {\n",
              "    element.style[key] = styleAttributes[key];\n",
              "  }\n",
              "  return element;\n",
              "}\n",
              "\n",
              "// Max number of bytes which will be uploaded at a time.\n",
              "const MAX_PAYLOAD_SIZE = 100 * 1024;\n",
              "\n",
              "function _uploadFiles(inputId, outputId) {\n",
              "  const steps = uploadFilesStep(inputId, outputId);\n",
              "  const outputElement = document.getElementById(outputId);\n",
              "  // Cache steps on the outputElement to make it available for the next call\n",
              "  // to uploadFilesContinue from Python.\n",
              "  outputElement.steps = steps;\n",
              "\n",
              "  return _uploadFilesContinue(outputId);\n",
              "}\n",
              "\n",
              "// This is roughly an async generator (not supported in the browser yet),\n",
              "// where there are multiple asynchronous steps and the Python side is going\n",
              "// to poll for completion of each step.\n",
              "// This uses a Promise to block the python side on completion of each step,\n",
              "// then passes the result of the previous step as the input to the next step.\n",
              "function _uploadFilesContinue(outputId) {\n",
              "  const outputElement = document.getElementById(outputId);\n",
              "  const steps = outputElement.steps;\n",
              "\n",
              "  const next = steps.next(outputElement.lastPromiseValue);\n",
              "  return Promise.resolve(next.value.promise).then((value) => {\n",
              "    // Cache the last promise value to make it available to the next\n",
              "    // step of the generator.\n",
              "    outputElement.lastPromiseValue = value;\n",
              "    return next.value.response;\n",
              "  });\n",
              "}\n",
              "\n",
              "/**\n",
              " * Generator function which is called between each async step of the upload\n",
              " * process.\n",
              " * @param {string} inputId Element ID of the input file picker element.\n",
              " * @param {string} outputId Element ID of the output display.\n",
              " * @return {!Iterable<!Object>} Iterable of next steps.\n",
              " */\n",
              "function* uploadFilesStep(inputId, outputId) {\n",
              "  const inputElement = document.getElementById(inputId);\n",
              "  inputElement.disabled = false;\n",
              "\n",
              "  const outputElement = document.getElementById(outputId);\n",
              "  outputElement.innerHTML = '';\n",
              "\n",
              "  const pickedPromise = new Promise((resolve) => {\n",
              "    inputElement.addEventListener('change', (e) => {\n",
              "      resolve(e.target.files);\n",
              "    });\n",
              "  });\n",
              "\n",
              "  const cancel = document.createElement('button');\n",
              "  inputElement.parentElement.appendChild(cancel);\n",
              "  cancel.textContent = 'Cancel upload';\n",
              "  const cancelPromise = new Promise((resolve) => {\n",
              "    cancel.onclick = () => {\n",
              "      resolve(null);\n",
              "    };\n",
              "  });\n",
              "\n",
              "  // Wait for the user to pick the files.\n",
              "  const files = yield {\n",
              "    promise: Promise.race([pickedPromise, cancelPromise]),\n",
              "    response: {\n",
              "      action: 'starting',\n",
              "    }\n",
              "  };\n",
              "\n",
              "  cancel.remove();\n",
              "\n",
              "  // Disable the input element since further picks are not allowed.\n",
              "  inputElement.disabled = true;\n",
              "\n",
              "  if (!files) {\n",
              "    return {\n",
              "      response: {\n",
              "        action: 'complete',\n",
              "      }\n",
              "    };\n",
              "  }\n",
              "\n",
              "  for (const file of files) {\n",
              "    const li = document.createElement('li');\n",
              "    li.append(span(file.name, {fontWeight: 'bold'}));\n",
              "    li.append(span(\n",
              "        `(${file.type || 'n/a'}) - ${file.size} bytes, ` +\n",
              "        `last modified: ${\n",
              "            file.lastModifiedDate ? file.lastModifiedDate.toLocaleDateString() :\n",
              "                                    'n/a'} - `));\n",
              "    const percent = span('0% done');\n",
              "    li.appendChild(percent);\n",
              "\n",
              "    outputElement.appendChild(li);\n",
              "\n",
              "    const fileDataPromise = new Promise((resolve) => {\n",
              "      const reader = new FileReader();\n",
              "      reader.onload = (e) => {\n",
              "        resolve(e.target.result);\n",
              "      };\n",
              "      reader.readAsArrayBuffer(file);\n",
              "    });\n",
              "    // Wait for the data to be ready.\n",
              "    let fileData = yield {\n",
              "      promise: fileDataPromise,\n",
              "      response: {\n",
              "        action: 'continue',\n",
              "      }\n",
              "    };\n",
              "\n",
              "    // Use a chunked sending to avoid message size limits. See b/62115660.\n",
              "    let position = 0;\n",
              "    do {\n",
              "      const length = Math.min(fileData.byteLength - position, MAX_PAYLOAD_SIZE);\n",
              "      const chunk = new Uint8Array(fileData, position, length);\n",
              "      position += length;\n",
              "\n",
              "      const base64 = btoa(String.fromCharCode.apply(null, chunk));\n",
              "      yield {\n",
              "        response: {\n",
              "          action: 'append',\n",
              "          file: file.name,\n",
              "          data: base64,\n",
              "        },\n",
              "      };\n",
              "\n",
              "      let percentDone = fileData.byteLength === 0 ?\n",
              "          100 :\n",
              "          Math.round((position / fileData.byteLength) * 100);\n",
              "      percent.textContent = `${percentDone}% done`;\n",
              "\n",
              "    } while (position < fileData.byteLength);\n",
              "  }\n",
              "\n",
              "  // All done.\n",
              "  yield {\n",
              "    response: {\n",
              "      action: 'complete',\n",
              "    }\n",
              "  };\n",
              "}\n",
              "\n",
              "scope.google = scope.google || {};\n",
              "scope.google.colab = scope.google.colab || {};\n",
              "scope.google.colab._files = {\n",
              "  _uploadFiles,\n",
              "  _uploadFilesContinue,\n",
              "};\n",
              "})(self);\n",
              "</script> "
            ]
          },
          "metadata": {}
        },
        {
          "output_type": "stream",
          "name": "stdout",
          "text": [
            "Saving abtest.csv to abtest.csv\n"
          ]
        }
      ]
    },
    {
      "cell_type": "code",
      "source": [
        "df2=pd.read_csv('abtest.csv')\n",
        "print(df2)"
      ],
      "metadata": {
        "colab": {
          "base_uri": "https://localhost:8080/"
        },
        "id": "rvWadwmwcjro",
        "outputId": "eee36bee-dc46-477c-9d32-cb3ba3765e19"
      },
      "id": "rvWadwmwcjro",
      "execution_count": 3,
      "outputs": [
        {
          "output_type": "stream",
          "name": "stdout",
          "text": [
            "    user_id      group landing_page  time_spent_on_the_page converted  \\\n",
            "0    546592    control          old                    3.48        no   \n",
            "1    546468  treatment          new                    7.13       yes   \n",
            "2    546462  treatment          new                    4.40        no   \n",
            "3    546567    control          old                    3.02        no   \n",
            "4    546459  treatment          new                    4.75       yes   \n",
            "..      ...        ...          ...                     ...       ...   \n",
            "95   546446  treatment          new                    5.15        no   \n",
            "96   546544    control          old                    6.52       yes   \n",
            "97   546472  treatment          new                    7.07       yes   \n",
            "98   546481  treatment          new                    6.20       yes   \n",
            "99   546483  treatment          new                    5.86       yes   \n",
            "\n",
            "   language_preferred  \n",
            "0             Spanish  \n",
            "1             English  \n",
            "2             Spanish  \n",
            "3              French  \n",
            "4             Spanish  \n",
            "..                ...  \n",
            "95            Spanish  \n",
            "96            English  \n",
            "97            Spanish  \n",
            "98            Spanish  \n",
            "99            English  \n",
            "\n",
            "[100 rows x 6 columns]\n"
          ]
        }
      ]
    },
    {
      "cell_type": "markdown",
      "metadata": {
        "id": "9d75cfa2"
      },
      "source": [
        "## Explore the dataset and extract insights using Exploratory Data Analysis"
      ],
      "id": "9d75cfa2"
    },
    {
      "cell_type": "markdown",
      "metadata": {
        "id": "27201534"
      },
      "source": [
        "- Data Overview\n",
        "  - Viewing the first and last few rows of the dataset\n",
        "  - Checking the shape of the dataset\n",
        "  - Getting the statistical summary for the variables\n",
        "- Check for missing values\n",
        "- Check for duplicates"
      ],
      "id": "27201534"
    },
    {
      "cell_type": "markdown",
      "source": [
        "##Viewing the first and last few rows of the dataset"
      ],
      "metadata": {
        "id": "02R07UyicsbE"
      },
      "id": "02R07UyicsbE"
    },
    {
      "cell_type": "code",
      "metadata": {
        "id": "e1ad11d4",
        "colab": {
          "base_uri": "https://localhost:8080/",
          "height": 206
        },
        "outputId": "2d97f740-9f47-4e81-9bfb-64f8bf886cad"
      },
      "source": [
        "df2.head()"
      ],
      "id": "e1ad11d4",
      "execution_count": 4,
      "outputs": [
        {
          "output_type": "execute_result",
          "data": {
            "text/plain": [
              "   user_id      group landing_page  time_spent_on_the_page converted  \\\n",
              "0   546592    control          old                    3.48        no   \n",
              "1   546468  treatment          new                    7.13       yes   \n",
              "2   546462  treatment          new                    4.40        no   \n",
              "3   546567    control          old                    3.02        no   \n",
              "4   546459  treatment          new                    4.75       yes   \n",
              "\n",
              "  language_preferred  \n",
              "0            Spanish  \n",
              "1            English  \n",
              "2            Spanish  \n",
              "3             French  \n",
              "4            Spanish  "
            ],
            "text/html": [
              "\n",
              "  <div id=\"df-0f47eac3-0e61-4041-8bcf-36f8dabc4c5c\" class=\"colab-df-container\">\n",
              "    <div>\n",
              "<style scoped>\n",
              "    .dataframe tbody tr th:only-of-type {\n",
              "        vertical-align: middle;\n",
              "    }\n",
              "\n",
              "    .dataframe tbody tr th {\n",
              "        vertical-align: top;\n",
              "    }\n",
              "\n",
              "    .dataframe thead th {\n",
              "        text-align: right;\n",
              "    }\n",
              "</style>\n",
              "<table border=\"1\" class=\"dataframe\">\n",
              "  <thead>\n",
              "    <tr style=\"text-align: right;\">\n",
              "      <th></th>\n",
              "      <th>user_id</th>\n",
              "      <th>group</th>\n",
              "      <th>landing_page</th>\n",
              "      <th>time_spent_on_the_page</th>\n",
              "      <th>converted</th>\n",
              "      <th>language_preferred</th>\n",
              "    </tr>\n",
              "  </thead>\n",
              "  <tbody>\n",
              "    <tr>\n",
              "      <th>0</th>\n",
              "      <td>546592</td>\n",
              "      <td>control</td>\n",
              "      <td>old</td>\n",
              "      <td>3.48</td>\n",
              "      <td>no</td>\n",
              "      <td>Spanish</td>\n",
              "    </tr>\n",
              "    <tr>\n",
              "      <th>1</th>\n",
              "      <td>546468</td>\n",
              "      <td>treatment</td>\n",
              "      <td>new</td>\n",
              "      <td>7.13</td>\n",
              "      <td>yes</td>\n",
              "      <td>English</td>\n",
              "    </tr>\n",
              "    <tr>\n",
              "      <th>2</th>\n",
              "      <td>546462</td>\n",
              "      <td>treatment</td>\n",
              "      <td>new</td>\n",
              "      <td>4.40</td>\n",
              "      <td>no</td>\n",
              "      <td>Spanish</td>\n",
              "    </tr>\n",
              "    <tr>\n",
              "      <th>3</th>\n",
              "      <td>546567</td>\n",
              "      <td>control</td>\n",
              "      <td>old</td>\n",
              "      <td>3.02</td>\n",
              "      <td>no</td>\n",
              "      <td>French</td>\n",
              "    </tr>\n",
              "    <tr>\n",
              "      <th>4</th>\n",
              "      <td>546459</td>\n",
              "      <td>treatment</td>\n",
              "      <td>new</td>\n",
              "      <td>4.75</td>\n",
              "      <td>yes</td>\n",
              "      <td>Spanish</td>\n",
              "    </tr>\n",
              "  </tbody>\n",
              "</table>\n",
              "</div>\n",
              "    <div class=\"colab-df-buttons\">\n",
              "\n",
              "  <div class=\"colab-df-container\">\n",
              "    <button class=\"colab-df-convert\" onclick=\"convertToInteractive('df-0f47eac3-0e61-4041-8bcf-36f8dabc4c5c')\"\n",
              "            title=\"Convert this dataframe to an interactive table.\"\n",
              "            style=\"display:none;\">\n",
              "\n",
              "  <svg xmlns=\"http://www.w3.org/2000/svg\" height=\"24px\" viewBox=\"0 -960 960 960\">\n",
              "    <path d=\"M120-120v-720h720v720H120Zm60-500h600v-160H180v160Zm220 220h160v-160H400v160Zm0 220h160v-160H400v160ZM180-400h160v-160H180v160Zm440 0h160v-160H620v160ZM180-180h160v-160H180v160Zm440 0h160v-160H620v160Z\"/>\n",
              "  </svg>\n",
              "    </button>\n",
              "\n",
              "  <style>\n",
              "    .colab-df-container {\n",
              "      display:flex;\n",
              "      gap: 12px;\n",
              "    }\n",
              "\n",
              "    .colab-df-convert {\n",
              "      background-color: #E8F0FE;\n",
              "      border: none;\n",
              "      border-radius: 50%;\n",
              "      cursor: pointer;\n",
              "      display: none;\n",
              "      fill: #1967D2;\n",
              "      height: 32px;\n",
              "      padding: 0 0 0 0;\n",
              "      width: 32px;\n",
              "    }\n",
              "\n",
              "    .colab-df-convert:hover {\n",
              "      background-color: #E2EBFA;\n",
              "      box-shadow: 0px 1px 2px rgba(60, 64, 67, 0.3), 0px 1px 3px 1px rgba(60, 64, 67, 0.15);\n",
              "      fill: #174EA6;\n",
              "    }\n",
              "\n",
              "    .colab-df-buttons div {\n",
              "      margin-bottom: 4px;\n",
              "    }\n",
              "\n",
              "    [theme=dark] .colab-df-convert {\n",
              "      background-color: #3B4455;\n",
              "      fill: #D2E3FC;\n",
              "    }\n",
              "\n",
              "    [theme=dark] .colab-df-convert:hover {\n",
              "      background-color: #434B5C;\n",
              "      box-shadow: 0px 1px 3px 1px rgba(0, 0, 0, 0.15);\n",
              "      filter: drop-shadow(0px 1px 2px rgba(0, 0, 0, 0.3));\n",
              "      fill: #FFFFFF;\n",
              "    }\n",
              "  </style>\n",
              "\n",
              "    <script>\n",
              "      const buttonEl =\n",
              "        document.querySelector('#df-0f47eac3-0e61-4041-8bcf-36f8dabc4c5c button.colab-df-convert');\n",
              "      buttonEl.style.display =\n",
              "        google.colab.kernel.accessAllowed ? 'block' : 'none';\n",
              "\n",
              "      async function convertToInteractive(key) {\n",
              "        const element = document.querySelector('#df-0f47eac3-0e61-4041-8bcf-36f8dabc4c5c');\n",
              "        const dataTable =\n",
              "          await google.colab.kernel.invokeFunction('convertToInteractive',\n",
              "                                                    [key], {});\n",
              "        if (!dataTable) return;\n",
              "\n",
              "        const docLinkHtml = 'Like what you see? Visit the ' +\n",
              "          '<a target=\"_blank\" href=https://colab.research.google.com/notebooks/data_table.ipynb>data table notebook</a>'\n",
              "          + ' to learn more about interactive tables.';\n",
              "        element.innerHTML = '';\n",
              "        dataTable['output_type'] = 'display_data';\n",
              "        await google.colab.output.renderOutput(dataTable, element);\n",
              "        const docLink = document.createElement('div');\n",
              "        docLink.innerHTML = docLinkHtml;\n",
              "        element.appendChild(docLink);\n",
              "      }\n",
              "    </script>\n",
              "  </div>\n",
              "\n",
              "\n",
              "<div id=\"df-6ae24a9f-fa96-4c71-b1f7-498d3e4a4cf1\">\n",
              "  <button class=\"colab-df-quickchart\" onclick=\"quickchart('df-6ae24a9f-fa96-4c71-b1f7-498d3e4a4cf1')\"\n",
              "            title=\"Suggest charts\"\n",
              "            style=\"display:none;\">\n",
              "\n",
              "<svg xmlns=\"http://www.w3.org/2000/svg\" height=\"24px\"viewBox=\"0 0 24 24\"\n",
              "     width=\"24px\">\n",
              "    <g>\n",
              "        <path d=\"M19 3H5c-1.1 0-2 .9-2 2v14c0 1.1.9 2 2 2h14c1.1 0 2-.9 2-2V5c0-1.1-.9-2-2-2zM9 17H7v-7h2v7zm4 0h-2V7h2v10zm4 0h-2v-4h2v4z\"/>\n",
              "    </g>\n",
              "</svg>\n",
              "  </button>\n",
              "\n",
              "<style>\n",
              "  .colab-df-quickchart {\n",
              "      --bg-color: #E8F0FE;\n",
              "      --fill-color: #1967D2;\n",
              "      --hover-bg-color: #E2EBFA;\n",
              "      --hover-fill-color: #174EA6;\n",
              "      --disabled-fill-color: #AAA;\n",
              "      --disabled-bg-color: #DDD;\n",
              "  }\n",
              "\n",
              "  [theme=dark] .colab-df-quickchart {\n",
              "      --bg-color: #3B4455;\n",
              "      --fill-color: #D2E3FC;\n",
              "      --hover-bg-color: #434B5C;\n",
              "      --hover-fill-color: #FFFFFF;\n",
              "      --disabled-bg-color: #3B4455;\n",
              "      --disabled-fill-color: #666;\n",
              "  }\n",
              "\n",
              "  .colab-df-quickchart {\n",
              "    background-color: var(--bg-color);\n",
              "    border: none;\n",
              "    border-radius: 50%;\n",
              "    cursor: pointer;\n",
              "    display: none;\n",
              "    fill: var(--fill-color);\n",
              "    height: 32px;\n",
              "    padding: 0;\n",
              "    width: 32px;\n",
              "  }\n",
              "\n",
              "  .colab-df-quickchart:hover {\n",
              "    background-color: var(--hover-bg-color);\n",
              "    box-shadow: 0 1px 2px rgba(60, 64, 67, 0.3), 0 1px 3px 1px rgba(60, 64, 67, 0.15);\n",
              "    fill: var(--button-hover-fill-color);\n",
              "  }\n",
              "\n",
              "  .colab-df-quickchart-complete:disabled,\n",
              "  .colab-df-quickchart-complete:disabled:hover {\n",
              "    background-color: var(--disabled-bg-color);\n",
              "    fill: var(--disabled-fill-color);\n",
              "    box-shadow: none;\n",
              "  }\n",
              "\n",
              "  .colab-df-spinner {\n",
              "    border: 2px solid var(--fill-color);\n",
              "    border-color: transparent;\n",
              "    border-bottom-color: var(--fill-color);\n",
              "    animation:\n",
              "      spin 1s steps(1) infinite;\n",
              "  }\n",
              "\n",
              "  @keyframes spin {\n",
              "    0% {\n",
              "      border-color: transparent;\n",
              "      border-bottom-color: var(--fill-color);\n",
              "      border-left-color: var(--fill-color);\n",
              "    }\n",
              "    20% {\n",
              "      border-color: transparent;\n",
              "      border-left-color: var(--fill-color);\n",
              "      border-top-color: var(--fill-color);\n",
              "    }\n",
              "    30% {\n",
              "      border-color: transparent;\n",
              "      border-left-color: var(--fill-color);\n",
              "      border-top-color: var(--fill-color);\n",
              "      border-right-color: var(--fill-color);\n",
              "    }\n",
              "    40% {\n",
              "      border-color: transparent;\n",
              "      border-right-color: var(--fill-color);\n",
              "      border-top-color: var(--fill-color);\n",
              "    }\n",
              "    60% {\n",
              "      border-color: transparent;\n",
              "      border-right-color: var(--fill-color);\n",
              "    }\n",
              "    80% {\n",
              "      border-color: transparent;\n",
              "      border-right-color: var(--fill-color);\n",
              "      border-bottom-color: var(--fill-color);\n",
              "    }\n",
              "    90% {\n",
              "      border-color: transparent;\n",
              "      border-bottom-color: var(--fill-color);\n",
              "    }\n",
              "  }\n",
              "</style>\n",
              "\n",
              "  <script>\n",
              "    async function quickchart(key) {\n",
              "      const quickchartButtonEl =\n",
              "        document.querySelector('#' + key + ' button');\n",
              "      quickchartButtonEl.disabled = true;  // To prevent multiple clicks.\n",
              "      quickchartButtonEl.classList.add('colab-df-spinner');\n",
              "      try {\n",
              "        const charts = await google.colab.kernel.invokeFunction(\n",
              "            'suggestCharts', [key], {});\n",
              "      } catch (error) {\n",
              "        console.error('Error during call to suggestCharts:', error);\n",
              "      }\n",
              "      quickchartButtonEl.classList.remove('colab-df-spinner');\n",
              "      quickchartButtonEl.classList.add('colab-df-quickchart-complete');\n",
              "    }\n",
              "    (() => {\n",
              "      let quickchartButtonEl =\n",
              "        document.querySelector('#df-6ae24a9f-fa96-4c71-b1f7-498d3e4a4cf1 button');\n",
              "      quickchartButtonEl.style.display =\n",
              "        google.colab.kernel.accessAllowed ? 'block' : 'none';\n",
              "    })();\n",
              "  </script>\n",
              "</div>\n",
              "    </div>\n",
              "  </div>\n"
            ]
          },
          "metadata": {},
          "execution_count": 4
        }
      ]
    },
    {
      "cell_type": "code",
      "source": [
        "df2.tail()"
      ],
      "metadata": {
        "colab": {
          "base_uri": "https://localhost:8080/",
          "height": 206
        },
        "id": "Z7c1lOu0cz7d",
        "outputId": "b5f9fcd1-0c83-41be-f1a8-e0469080a3ff"
      },
      "id": "Z7c1lOu0cz7d",
      "execution_count": 5,
      "outputs": [
        {
          "output_type": "execute_result",
          "data": {
            "text/plain": [
              "    user_id      group landing_page  time_spent_on_the_page converted  \\\n",
              "95   546446  treatment          new                    5.15        no   \n",
              "96   546544    control          old                    6.52       yes   \n",
              "97   546472  treatment          new                    7.07       yes   \n",
              "98   546481  treatment          new                    6.20       yes   \n",
              "99   546483  treatment          new                    5.86       yes   \n",
              "\n",
              "   language_preferred  \n",
              "95            Spanish  \n",
              "96            English  \n",
              "97            Spanish  \n",
              "98            Spanish  \n",
              "99            English  "
            ],
            "text/html": [
              "\n",
              "  <div id=\"df-0da2874b-ba16-4251-8fef-c20c0d1ed22c\" class=\"colab-df-container\">\n",
              "    <div>\n",
              "<style scoped>\n",
              "    .dataframe tbody tr th:only-of-type {\n",
              "        vertical-align: middle;\n",
              "    }\n",
              "\n",
              "    .dataframe tbody tr th {\n",
              "        vertical-align: top;\n",
              "    }\n",
              "\n",
              "    .dataframe thead th {\n",
              "        text-align: right;\n",
              "    }\n",
              "</style>\n",
              "<table border=\"1\" class=\"dataframe\">\n",
              "  <thead>\n",
              "    <tr style=\"text-align: right;\">\n",
              "      <th></th>\n",
              "      <th>user_id</th>\n",
              "      <th>group</th>\n",
              "      <th>landing_page</th>\n",
              "      <th>time_spent_on_the_page</th>\n",
              "      <th>converted</th>\n",
              "      <th>language_preferred</th>\n",
              "    </tr>\n",
              "  </thead>\n",
              "  <tbody>\n",
              "    <tr>\n",
              "      <th>95</th>\n",
              "      <td>546446</td>\n",
              "      <td>treatment</td>\n",
              "      <td>new</td>\n",
              "      <td>5.15</td>\n",
              "      <td>no</td>\n",
              "      <td>Spanish</td>\n",
              "    </tr>\n",
              "    <tr>\n",
              "      <th>96</th>\n",
              "      <td>546544</td>\n",
              "      <td>control</td>\n",
              "      <td>old</td>\n",
              "      <td>6.52</td>\n",
              "      <td>yes</td>\n",
              "      <td>English</td>\n",
              "    </tr>\n",
              "    <tr>\n",
              "      <th>97</th>\n",
              "      <td>546472</td>\n",
              "      <td>treatment</td>\n",
              "      <td>new</td>\n",
              "      <td>7.07</td>\n",
              "      <td>yes</td>\n",
              "      <td>Spanish</td>\n",
              "    </tr>\n",
              "    <tr>\n",
              "      <th>98</th>\n",
              "      <td>546481</td>\n",
              "      <td>treatment</td>\n",
              "      <td>new</td>\n",
              "      <td>6.20</td>\n",
              "      <td>yes</td>\n",
              "      <td>Spanish</td>\n",
              "    </tr>\n",
              "    <tr>\n",
              "      <th>99</th>\n",
              "      <td>546483</td>\n",
              "      <td>treatment</td>\n",
              "      <td>new</td>\n",
              "      <td>5.86</td>\n",
              "      <td>yes</td>\n",
              "      <td>English</td>\n",
              "    </tr>\n",
              "  </tbody>\n",
              "</table>\n",
              "</div>\n",
              "    <div class=\"colab-df-buttons\">\n",
              "\n",
              "  <div class=\"colab-df-container\">\n",
              "    <button class=\"colab-df-convert\" onclick=\"convertToInteractive('df-0da2874b-ba16-4251-8fef-c20c0d1ed22c')\"\n",
              "            title=\"Convert this dataframe to an interactive table.\"\n",
              "            style=\"display:none;\">\n",
              "\n",
              "  <svg xmlns=\"http://www.w3.org/2000/svg\" height=\"24px\" viewBox=\"0 -960 960 960\">\n",
              "    <path d=\"M120-120v-720h720v720H120Zm60-500h600v-160H180v160Zm220 220h160v-160H400v160Zm0 220h160v-160H400v160ZM180-400h160v-160H180v160Zm440 0h160v-160H620v160ZM180-180h160v-160H180v160Zm440 0h160v-160H620v160Z\"/>\n",
              "  </svg>\n",
              "    </button>\n",
              "\n",
              "  <style>\n",
              "    .colab-df-container {\n",
              "      display:flex;\n",
              "      gap: 12px;\n",
              "    }\n",
              "\n",
              "    .colab-df-convert {\n",
              "      background-color: #E8F0FE;\n",
              "      border: none;\n",
              "      border-radius: 50%;\n",
              "      cursor: pointer;\n",
              "      display: none;\n",
              "      fill: #1967D2;\n",
              "      height: 32px;\n",
              "      padding: 0 0 0 0;\n",
              "      width: 32px;\n",
              "    }\n",
              "\n",
              "    .colab-df-convert:hover {\n",
              "      background-color: #E2EBFA;\n",
              "      box-shadow: 0px 1px 2px rgba(60, 64, 67, 0.3), 0px 1px 3px 1px rgba(60, 64, 67, 0.15);\n",
              "      fill: #174EA6;\n",
              "    }\n",
              "\n",
              "    .colab-df-buttons div {\n",
              "      margin-bottom: 4px;\n",
              "    }\n",
              "\n",
              "    [theme=dark] .colab-df-convert {\n",
              "      background-color: #3B4455;\n",
              "      fill: #D2E3FC;\n",
              "    }\n",
              "\n",
              "    [theme=dark] .colab-df-convert:hover {\n",
              "      background-color: #434B5C;\n",
              "      box-shadow: 0px 1px 3px 1px rgba(0, 0, 0, 0.15);\n",
              "      filter: drop-shadow(0px 1px 2px rgba(0, 0, 0, 0.3));\n",
              "      fill: #FFFFFF;\n",
              "    }\n",
              "  </style>\n",
              "\n",
              "    <script>\n",
              "      const buttonEl =\n",
              "        document.querySelector('#df-0da2874b-ba16-4251-8fef-c20c0d1ed22c button.colab-df-convert');\n",
              "      buttonEl.style.display =\n",
              "        google.colab.kernel.accessAllowed ? 'block' : 'none';\n",
              "\n",
              "      async function convertToInteractive(key) {\n",
              "        const element = document.querySelector('#df-0da2874b-ba16-4251-8fef-c20c0d1ed22c');\n",
              "        const dataTable =\n",
              "          await google.colab.kernel.invokeFunction('convertToInteractive',\n",
              "                                                    [key], {});\n",
              "        if (!dataTable) return;\n",
              "\n",
              "        const docLinkHtml = 'Like what you see? Visit the ' +\n",
              "          '<a target=\"_blank\" href=https://colab.research.google.com/notebooks/data_table.ipynb>data table notebook</a>'\n",
              "          + ' to learn more about interactive tables.';\n",
              "        element.innerHTML = '';\n",
              "        dataTable['output_type'] = 'display_data';\n",
              "        await google.colab.output.renderOutput(dataTable, element);\n",
              "        const docLink = document.createElement('div');\n",
              "        docLink.innerHTML = docLinkHtml;\n",
              "        element.appendChild(docLink);\n",
              "      }\n",
              "    </script>\n",
              "  </div>\n",
              "\n",
              "\n",
              "<div id=\"df-74b839fe-4035-4089-82a0-8043cb408876\">\n",
              "  <button class=\"colab-df-quickchart\" onclick=\"quickchart('df-74b839fe-4035-4089-82a0-8043cb408876')\"\n",
              "            title=\"Suggest charts\"\n",
              "            style=\"display:none;\">\n",
              "\n",
              "<svg xmlns=\"http://www.w3.org/2000/svg\" height=\"24px\"viewBox=\"0 0 24 24\"\n",
              "     width=\"24px\">\n",
              "    <g>\n",
              "        <path d=\"M19 3H5c-1.1 0-2 .9-2 2v14c0 1.1.9 2 2 2h14c1.1 0 2-.9 2-2V5c0-1.1-.9-2-2-2zM9 17H7v-7h2v7zm4 0h-2V7h2v10zm4 0h-2v-4h2v4z\"/>\n",
              "    </g>\n",
              "</svg>\n",
              "  </button>\n",
              "\n",
              "<style>\n",
              "  .colab-df-quickchart {\n",
              "      --bg-color: #E8F0FE;\n",
              "      --fill-color: #1967D2;\n",
              "      --hover-bg-color: #E2EBFA;\n",
              "      --hover-fill-color: #174EA6;\n",
              "      --disabled-fill-color: #AAA;\n",
              "      --disabled-bg-color: #DDD;\n",
              "  }\n",
              "\n",
              "  [theme=dark] .colab-df-quickchart {\n",
              "      --bg-color: #3B4455;\n",
              "      --fill-color: #D2E3FC;\n",
              "      --hover-bg-color: #434B5C;\n",
              "      --hover-fill-color: #FFFFFF;\n",
              "      --disabled-bg-color: #3B4455;\n",
              "      --disabled-fill-color: #666;\n",
              "  }\n",
              "\n",
              "  .colab-df-quickchart {\n",
              "    background-color: var(--bg-color);\n",
              "    border: none;\n",
              "    border-radius: 50%;\n",
              "    cursor: pointer;\n",
              "    display: none;\n",
              "    fill: var(--fill-color);\n",
              "    height: 32px;\n",
              "    padding: 0;\n",
              "    width: 32px;\n",
              "  }\n",
              "\n",
              "  .colab-df-quickchart:hover {\n",
              "    background-color: var(--hover-bg-color);\n",
              "    box-shadow: 0 1px 2px rgba(60, 64, 67, 0.3), 0 1px 3px 1px rgba(60, 64, 67, 0.15);\n",
              "    fill: var(--button-hover-fill-color);\n",
              "  }\n",
              "\n",
              "  .colab-df-quickchart-complete:disabled,\n",
              "  .colab-df-quickchart-complete:disabled:hover {\n",
              "    background-color: var(--disabled-bg-color);\n",
              "    fill: var(--disabled-fill-color);\n",
              "    box-shadow: none;\n",
              "  }\n",
              "\n",
              "  .colab-df-spinner {\n",
              "    border: 2px solid var(--fill-color);\n",
              "    border-color: transparent;\n",
              "    border-bottom-color: var(--fill-color);\n",
              "    animation:\n",
              "      spin 1s steps(1) infinite;\n",
              "  }\n",
              "\n",
              "  @keyframes spin {\n",
              "    0% {\n",
              "      border-color: transparent;\n",
              "      border-bottom-color: var(--fill-color);\n",
              "      border-left-color: var(--fill-color);\n",
              "    }\n",
              "    20% {\n",
              "      border-color: transparent;\n",
              "      border-left-color: var(--fill-color);\n",
              "      border-top-color: var(--fill-color);\n",
              "    }\n",
              "    30% {\n",
              "      border-color: transparent;\n",
              "      border-left-color: var(--fill-color);\n",
              "      border-top-color: var(--fill-color);\n",
              "      border-right-color: var(--fill-color);\n",
              "    }\n",
              "    40% {\n",
              "      border-color: transparent;\n",
              "      border-right-color: var(--fill-color);\n",
              "      border-top-color: var(--fill-color);\n",
              "    }\n",
              "    60% {\n",
              "      border-color: transparent;\n",
              "      border-right-color: var(--fill-color);\n",
              "    }\n",
              "    80% {\n",
              "      border-color: transparent;\n",
              "      border-right-color: var(--fill-color);\n",
              "      border-bottom-color: var(--fill-color);\n",
              "    }\n",
              "    90% {\n",
              "      border-color: transparent;\n",
              "      border-bottom-color: var(--fill-color);\n",
              "    }\n",
              "  }\n",
              "</style>\n",
              "\n",
              "  <script>\n",
              "    async function quickchart(key) {\n",
              "      const quickchartButtonEl =\n",
              "        document.querySelector('#' + key + ' button');\n",
              "      quickchartButtonEl.disabled = true;  // To prevent multiple clicks.\n",
              "      quickchartButtonEl.classList.add('colab-df-spinner');\n",
              "      try {\n",
              "        const charts = await google.colab.kernel.invokeFunction(\n",
              "            'suggestCharts', [key], {});\n",
              "      } catch (error) {\n",
              "        console.error('Error during call to suggestCharts:', error);\n",
              "      }\n",
              "      quickchartButtonEl.classList.remove('colab-df-spinner');\n",
              "      quickchartButtonEl.classList.add('colab-df-quickchart-complete');\n",
              "    }\n",
              "    (() => {\n",
              "      let quickchartButtonEl =\n",
              "        document.querySelector('#df-74b839fe-4035-4089-82a0-8043cb408876 button');\n",
              "      quickchartButtonEl.style.display =\n",
              "        google.colab.kernel.accessAllowed ? 'block' : 'none';\n",
              "    })();\n",
              "  </script>\n",
              "</div>\n",
              "    </div>\n",
              "  </div>\n"
            ]
          },
          "metadata": {},
          "execution_count": 5
        }
      ]
    },
    {
      "cell_type": "markdown",
      "source": [
        "##Checking the shape of the dataset"
      ],
      "metadata": {
        "id": "TyxF05qYc3QC"
      },
      "id": "TyxF05qYc3QC"
    },
    {
      "cell_type": "code",
      "source": [
        "df2.shape"
      ],
      "metadata": {
        "colab": {
          "base_uri": "https://localhost:8080/"
        },
        "id": "M03hcN7_c7Zt",
        "outputId": "b29a051a-3c75-4825-9107-8fc54313b118"
      },
      "id": "M03hcN7_c7Zt",
      "execution_count": 7,
      "outputs": [
        {
          "output_type": "execute_result",
          "data": {
            "text/plain": [
              "(100, 6)"
            ]
          },
          "metadata": {},
          "execution_count": 7
        }
      ]
    },
    {
      "cell_type": "markdown",
      "source": [
        "The dataset has 100 columns and 6 rows"
      ],
      "metadata": {
        "id": "r9ZAndaqdBVg"
      },
      "id": "r9ZAndaqdBVg"
    },
    {
      "cell_type": "markdown",
      "source": [
        "##Getting the statistical summary for the variables"
      ],
      "metadata": {
        "id": "CLwwpN9XdJd9"
      },
      "id": "CLwwpN9XdJd9"
    },
    {
      "cell_type": "code",
      "source": [
        "df2.info()"
      ],
      "metadata": {
        "colab": {
          "base_uri": "https://localhost:8080/"
        },
        "id": "ne7sts1odF1g",
        "outputId": "fe43ea19-18c1-441a-97b7-48ad8f748de3"
      },
      "id": "ne7sts1odF1g",
      "execution_count": 8,
      "outputs": [
        {
          "output_type": "stream",
          "name": "stdout",
          "text": [
            "<class 'pandas.core.frame.DataFrame'>\n",
            "RangeIndex: 100 entries, 0 to 99\n",
            "Data columns (total 6 columns):\n",
            " #   Column                  Non-Null Count  Dtype  \n",
            "---  ------                  --------------  -----  \n",
            " 0   user_id                 100 non-null    int64  \n",
            " 1   group                   100 non-null    object \n",
            " 2   landing_page            100 non-null    object \n",
            " 3   time_spent_on_the_page  100 non-null    float64\n",
            " 4   converted               100 non-null    object \n",
            " 5   language_preferred      100 non-null    object \n",
            "dtypes: float64(1), int64(1), object(4)\n",
            "memory usage: 4.8+ KB\n"
          ]
        }
      ]
    },
    {
      "cell_type": "markdown",
      "source": [
        "The dataset is made up of 4 object datatype rows, 1 integer and 1 float"
      ],
      "metadata": {
        "id": "hcZibCabdU9y"
      },
      "id": "hcZibCabdU9y"
    },
    {
      "cell_type": "markdown",
      "source": [
        "#Getting the statistical summary for the numerical variables"
      ],
      "metadata": {
        "id": "j9mh9__rdhAG"
      },
      "id": "j9mh9__rdhAG"
    },
    {
      "cell_type": "code",
      "source": [
        "df2.describe().T"
      ],
      "metadata": {
        "colab": {
          "base_uri": "https://localhost:8080/",
          "height": 112
        },
        "id": "qWLdyY3ud1kf",
        "outputId": "7af90572-7e32-4743-aa9c-4274ae297601"
      },
      "id": "qWLdyY3ud1kf",
      "execution_count": 10,
      "outputs": [
        {
          "output_type": "execute_result",
          "data": {
            "text/plain": [
              "                        count         mean        std        min        25%  \\\n",
              "user_id                 100.0  546517.0000  52.295779  546443.00  546467.75   \n",
              "time_spent_on_the_page  100.0       5.3778   2.378166       0.19       3.88   \n",
              "\n",
              "                               50%          75%        max  \n",
              "user_id                 546492.500  546567.2500  546592.00  \n",
              "time_spent_on_the_page       5.415       7.0225      10.71  "
            ],
            "text/html": [
              "\n",
              "  <div id=\"df-26135755-ad69-41e6-bd07-d3a3bd18a4ba\" class=\"colab-df-container\">\n",
              "    <div>\n",
              "<style scoped>\n",
              "    .dataframe tbody tr th:only-of-type {\n",
              "        vertical-align: middle;\n",
              "    }\n",
              "\n",
              "    .dataframe tbody tr th {\n",
              "        vertical-align: top;\n",
              "    }\n",
              "\n",
              "    .dataframe thead th {\n",
              "        text-align: right;\n",
              "    }\n",
              "</style>\n",
              "<table border=\"1\" class=\"dataframe\">\n",
              "  <thead>\n",
              "    <tr style=\"text-align: right;\">\n",
              "      <th></th>\n",
              "      <th>count</th>\n",
              "      <th>mean</th>\n",
              "      <th>std</th>\n",
              "      <th>min</th>\n",
              "      <th>25%</th>\n",
              "      <th>50%</th>\n",
              "      <th>75%</th>\n",
              "      <th>max</th>\n",
              "    </tr>\n",
              "  </thead>\n",
              "  <tbody>\n",
              "    <tr>\n",
              "      <th>user_id</th>\n",
              "      <td>100.0</td>\n",
              "      <td>546517.0000</td>\n",
              "      <td>52.295779</td>\n",
              "      <td>546443.00</td>\n",
              "      <td>546467.75</td>\n",
              "      <td>546492.500</td>\n",
              "      <td>546567.2500</td>\n",
              "      <td>546592.00</td>\n",
              "    </tr>\n",
              "    <tr>\n",
              "      <th>time_spent_on_the_page</th>\n",
              "      <td>100.0</td>\n",
              "      <td>5.3778</td>\n",
              "      <td>2.378166</td>\n",
              "      <td>0.19</td>\n",
              "      <td>3.88</td>\n",
              "      <td>5.415</td>\n",
              "      <td>7.0225</td>\n",
              "      <td>10.71</td>\n",
              "    </tr>\n",
              "  </tbody>\n",
              "</table>\n",
              "</div>\n",
              "    <div class=\"colab-df-buttons\">\n",
              "\n",
              "  <div class=\"colab-df-container\">\n",
              "    <button class=\"colab-df-convert\" onclick=\"convertToInteractive('df-26135755-ad69-41e6-bd07-d3a3bd18a4ba')\"\n",
              "            title=\"Convert this dataframe to an interactive table.\"\n",
              "            style=\"display:none;\">\n",
              "\n",
              "  <svg xmlns=\"http://www.w3.org/2000/svg\" height=\"24px\" viewBox=\"0 -960 960 960\">\n",
              "    <path d=\"M120-120v-720h720v720H120Zm60-500h600v-160H180v160Zm220 220h160v-160H400v160Zm0 220h160v-160H400v160ZM180-400h160v-160H180v160Zm440 0h160v-160H620v160ZM180-180h160v-160H180v160Zm440 0h160v-160H620v160Z\"/>\n",
              "  </svg>\n",
              "    </button>\n",
              "\n",
              "  <style>\n",
              "    .colab-df-container {\n",
              "      display:flex;\n",
              "      gap: 12px;\n",
              "    }\n",
              "\n",
              "    .colab-df-convert {\n",
              "      background-color: #E8F0FE;\n",
              "      border: none;\n",
              "      border-radius: 50%;\n",
              "      cursor: pointer;\n",
              "      display: none;\n",
              "      fill: #1967D2;\n",
              "      height: 32px;\n",
              "      padding: 0 0 0 0;\n",
              "      width: 32px;\n",
              "    }\n",
              "\n",
              "    .colab-df-convert:hover {\n",
              "      background-color: #E2EBFA;\n",
              "      box-shadow: 0px 1px 2px rgba(60, 64, 67, 0.3), 0px 1px 3px 1px rgba(60, 64, 67, 0.15);\n",
              "      fill: #174EA6;\n",
              "    }\n",
              "\n",
              "    .colab-df-buttons div {\n",
              "      margin-bottom: 4px;\n",
              "    }\n",
              "\n",
              "    [theme=dark] .colab-df-convert {\n",
              "      background-color: #3B4455;\n",
              "      fill: #D2E3FC;\n",
              "    }\n",
              "\n",
              "    [theme=dark] .colab-df-convert:hover {\n",
              "      background-color: #434B5C;\n",
              "      box-shadow: 0px 1px 3px 1px rgba(0, 0, 0, 0.15);\n",
              "      filter: drop-shadow(0px 1px 2px rgba(0, 0, 0, 0.3));\n",
              "      fill: #FFFFFF;\n",
              "    }\n",
              "  </style>\n",
              "\n",
              "    <script>\n",
              "      const buttonEl =\n",
              "        document.querySelector('#df-26135755-ad69-41e6-bd07-d3a3bd18a4ba button.colab-df-convert');\n",
              "      buttonEl.style.display =\n",
              "        google.colab.kernel.accessAllowed ? 'block' : 'none';\n",
              "\n",
              "      async function convertToInteractive(key) {\n",
              "        const element = document.querySelector('#df-26135755-ad69-41e6-bd07-d3a3bd18a4ba');\n",
              "        const dataTable =\n",
              "          await google.colab.kernel.invokeFunction('convertToInteractive',\n",
              "                                                    [key], {});\n",
              "        if (!dataTable) return;\n",
              "\n",
              "        const docLinkHtml = 'Like what you see? Visit the ' +\n",
              "          '<a target=\"_blank\" href=https://colab.research.google.com/notebooks/data_table.ipynb>data table notebook</a>'\n",
              "          + ' to learn more about interactive tables.';\n",
              "        element.innerHTML = '';\n",
              "        dataTable['output_type'] = 'display_data';\n",
              "        await google.colab.output.renderOutput(dataTable, element);\n",
              "        const docLink = document.createElement('div');\n",
              "        docLink.innerHTML = docLinkHtml;\n",
              "        element.appendChild(docLink);\n",
              "      }\n",
              "    </script>\n",
              "  </div>\n",
              "\n",
              "\n",
              "<div id=\"df-e72daa51-51d4-4e7a-b9b4-fa0dc4f80336\">\n",
              "  <button class=\"colab-df-quickchart\" onclick=\"quickchart('df-e72daa51-51d4-4e7a-b9b4-fa0dc4f80336')\"\n",
              "            title=\"Suggest charts\"\n",
              "            style=\"display:none;\">\n",
              "\n",
              "<svg xmlns=\"http://www.w3.org/2000/svg\" height=\"24px\"viewBox=\"0 0 24 24\"\n",
              "     width=\"24px\">\n",
              "    <g>\n",
              "        <path d=\"M19 3H5c-1.1 0-2 .9-2 2v14c0 1.1.9 2 2 2h14c1.1 0 2-.9 2-2V5c0-1.1-.9-2-2-2zM9 17H7v-7h2v7zm4 0h-2V7h2v10zm4 0h-2v-4h2v4z\"/>\n",
              "    </g>\n",
              "</svg>\n",
              "  </button>\n",
              "\n",
              "<style>\n",
              "  .colab-df-quickchart {\n",
              "      --bg-color: #E8F0FE;\n",
              "      --fill-color: #1967D2;\n",
              "      --hover-bg-color: #E2EBFA;\n",
              "      --hover-fill-color: #174EA6;\n",
              "      --disabled-fill-color: #AAA;\n",
              "      --disabled-bg-color: #DDD;\n",
              "  }\n",
              "\n",
              "  [theme=dark] .colab-df-quickchart {\n",
              "      --bg-color: #3B4455;\n",
              "      --fill-color: #D2E3FC;\n",
              "      --hover-bg-color: #434B5C;\n",
              "      --hover-fill-color: #FFFFFF;\n",
              "      --disabled-bg-color: #3B4455;\n",
              "      --disabled-fill-color: #666;\n",
              "  }\n",
              "\n",
              "  .colab-df-quickchart {\n",
              "    background-color: var(--bg-color);\n",
              "    border: none;\n",
              "    border-radius: 50%;\n",
              "    cursor: pointer;\n",
              "    display: none;\n",
              "    fill: var(--fill-color);\n",
              "    height: 32px;\n",
              "    padding: 0;\n",
              "    width: 32px;\n",
              "  }\n",
              "\n",
              "  .colab-df-quickchart:hover {\n",
              "    background-color: var(--hover-bg-color);\n",
              "    box-shadow: 0 1px 2px rgba(60, 64, 67, 0.3), 0 1px 3px 1px rgba(60, 64, 67, 0.15);\n",
              "    fill: var(--button-hover-fill-color);\n",
              "  }\n",
              "\n",
              "  .colab-df-quickchart-complete:disabled,\n",
              "  .colab-df-quickchart-complete:disabled:hover {\n",
              "    background-color: var(--disabled-bg-color);\n",
              "    fill: var(--disabled-fill-color);\n",
              "    box-shadow: none;\n",
              "  }\n",
              "\n",
              "  .colab-df-spinner {\n",
              "    border: 2px solid var(--fill-color);\n",
              "    border-color: transparent;\n",
              "    border-bottom-color: var(--fill-color);\n",
              "    animation:\n",
              "      spin 1s steps(1) infinite;\n",
              "  }\n",
              "\n",
              "  @keyframes spin {\n",
              "    0% {\n",
              "      border-color: transparent;\n",
              "      border-bottom-color: var(--fill-color);\n",
              "      border-left-color: var(--fill-color);\n",
              "    }\n",
              "    20% {\n",
              "      border-color: transparent;\n",
              "      border-left-color: var(--fill-color);\n",
              "      border-top-color: var(--fill-color);\n",
              "    }\n",
              "    30% {\n",
              "      border-color: transparent;\n",
              "      border-left-color: var(--fill-color);\n",
              "      border-top-color: var(--fill-color);\n",
              "      border-right-color: var(--fill-color);\n",
              "    }\n",
              "    40% {\n",
              "      border-color: transparent;\n",
              "      border-right-color: var(--fill-color);\n",
              "      border-top-color: var(--fill-color);\n",
              "    }\n",
              "    60% {\n",
              "      border-color: transparent;\n",
              "      border-right-color: var(--fill-color);\n",
              "    }\n",
              "    80% {\n",
              "      border-color: transparent;\n",
              "      border-right-color: var(--fill-color);\n",
              "      border-bottom-color: var(--fill-color);\n",
              "    }\n",
              "    90% {\n",
              "      border-color: transparent;\n",
              "      border-bottom-color: var(--fill-color);\n",
              "    }\n",
              "  }\n",
              "</style>\n",
              "\n",
              "  <script>\n",
              "    async function quickchart(key) {\n",
              "      const quickchartButtonEl =\n",
              "        document.querySelector('#' + key + ' button');\n",
              "      quickchartButtonEl.disabled = true;  // To prevent multiple clicks.\n",
              "      quickchartButtonEl.classList.add('colab-df-spinner');\n",
              "      try {\n",
              "        const charts = await google.colab.kernel.invokeFunction(\n",
              "            'suggestCharts', [key], {});\n",
              "      } catch (error) {\n",
              "        console.error('Error during call to suggestCharts:', error);\n",
              "      }\n",
              "      quickchartButtonEl.classList.remove('colab-df-spinner');\n",
              "      quickchartButtonEl.classList.add('colab-df-quickchart-complete');\n",
              "    }\n",
              "    (() => {\n",
              "      let quickchartButtonEl =\n",
              "        document.querySelector('#df-e72daa51-51d4-4e7a-b9b4-fa0dc4f80336 button');\n",
              "      quickchartButtonEl.style.display =\n",
              "        google.colab.kernel.accessAllowed ? 'block' : 'none';\n",
              "    })();\n",
              "  </script>\n",
              "</div>\n",
              "    </div>\n",
              "  </div>\n"
            ]
          },
          "metadata": {},
          "execution_count": 10
        }
      ]
    },
    {
      "cell_type": "markdown",
      "source": [
        "User ID:\n",
        "\n",
        "This identifier is unique to each user in the dataset.\n",
        "The dataset encompasses 100 users, with IDs ranging from 546443 to 546592.\n",
        "\n",
        "The average user ID is 546517, with a standard deviation of approximately 52.30. This suggests a fairly even distribution of user IDs across the dataset.\n",
        "\n",
        "Time Spent on the Page:\n",
        "\n",
        "This metric measures the duration (in minutes) that users spend on a page.\n",
        "The average time spent on the page by users is approximately 5.38 minutes, indicating a moderate level of engagement.\n",
        "\n",
        "The minimum time recorded is 0.19 minutes, and the maximum is 10.71 minutes, showing a wide range of user engagement times.\n",
        "\n",
        "The median time spent is slightly above the average at 5.42 minutes, suggesting that more than half of the users spend more than the average time on the page."
      ],
      "metadata": {
        "id": "qxKZW3bVfVUs"
      },
      "id": "qxKZW3bVfVUs"
    },
    {
      "cell_type": "markdown",
      "source": [
        "#Getting the statistical summary for the categorical variables"
      ],
      "metadata": {
        "id": "KkSkBzISf1bo"
      },
      "id": "KkSkBzISf1bo"
    },
    {
      "cell_type": "code",
      "source": [
        "df2_columns=df2.select_dtypes(include=['object']).columns\n",
        "df2[df2_columns].describe().T"
      ],
      "metadata": {
        "colab": {
          "base_uri": "https://localhost:8080/",
          "height": 174
        },
        "id": "lcrGfRRlf6Lh",
        "outputId": "5239b216-7997-43cc-ea36-15f4ceb3590a"
      },
      "id": "lcrGfRRlf6Lh",
      "execution_count": 16,
      "outputs": [
        {
          "output_type": "execute_result",
          "data": {
            "text/plain": [
              "                   count unique      top freq\n",
              "group                100      2  control   50\n",
              "landing_page         100      2      old   50\n",
              "converted            100      2      yes   54\n",
              "language_preferred   100      3  Spanish   34"
            ],
            "text/html": [
              "\n",
              "  <div id=\"df-62454d24-d05f-4994-b3dc-1be5a2ec361b\" class=\"colab-df-container\">\n",
              "    <div>\n",
              "<style scoped>\n",
              "    .dataframe tbody tr th:only-of-type {\n",
              "        vertical-align: middle;\n",
              "    }\n",
              "\n",
              "    .dataframe tbody tr th {\n",
              "        vertical-align: top;\n",
              "    }\n",
              "\n",
              "    .dataframe thead th {\n",
              "        text-align: right;\n",
              "    }\n",
              "</style>\n",
              "<table border=\"1\" class=\"dataframe\">\n",
              "  <thead>\n",
              "    <tr style=\"text-align: right;\">\n",
              "      <th></th>\n",
              "      <th>count</th>\n",
              "      <th>unique</th>\n",
              "      <th>top</th>\n",
              "      <th>freq</th>\n",
              "    </tr>\n",
              "  </thead>\n",
              "  <tbody>\n",
              "    <tr>\n",
              "      <th>group</th>\n",
              "      <td>100</td>\n",
              "      <td>2</td>\n",
              "      <td>control</td>\n",
              "      <td>50</td>\n",
              "    </tr>\n",
              "    <tr>\n",
              "      <th>landing_page</th>\n",
              "      <td>100</td>\n",
              "      <td>2</td>\n",
              "      <td>old</td>\n",
              "      <td>50</td>\n",
              "    </tr>\n",
              "    <tr>\n",
              "      <th>converted</th>\n",
              "      <td>100</td>\n",
              "      <td>2</td>\n",
              "      <td>yes</td>\n",
              "      <td>54</td>\n",
              "    </tr>\n",
              "    <tr>\n",
              "      <th>language_preferred</th>\n",
              "      <td>100</td>\n",
              "      <td>3</td>\n",
              "      <td>Spanish</td>\n",
              "      <td>34</td>\n",
              "    </tr>\n",
              "  </tbody>\n",
              "</table>\n",
              "</div>\n",
              "    <div class=\"colab-df-buttons\">\n",
              "\n",
              "  <div class=\"colab-df-container\">\n",
              "    <button class=\"colab-df-convert\" onclick=\"convertToInteractive('df-62454d24-d05f-4994-b3dc-1be5a2ec361b')\"\n",
              "            title=\"Convert this dataframe to an interactive table.\"\n",
              "            style=\"display:none;\">\n",
              "\n",
              "  <svg xmlns=\"http://www.w3.org/2000/svg\" height=\"24px\" viewBox=\"0 -960 960 960\">\n",
              "    <path d=\"M120-120v-720h720v720H120Zm60-500h600v-160H180v160Zm220 220h160v-160H400v160Zm0 220h160v-160H400v160ZM180-400h160v-160H180v160Zm440 0h160v-160H620v160ZM180-180h160v-160H180v160Zm440 0h160v-160H620v160Z\"/>\n",
              "  </svg>\n",
              "    </button>\n",
              "\n",
              "  <style>\n",
              "    .colab-df-container {\n",
              "      display:flex;\n",
              "      gap: 12px;\n",
              "    }\n",
              "\n",
              "    .colab-df-convert {\n",
              "      background-color: #E8F0FE;\n",
              "      border: none;\n",
              "      border-radius: 50%;\n",
              "      cursor: pointer;\n",
              "      display: none;\n",
              "      fill: #1967D2;\n",
              "      height: 32px;\n",
              "      padding: 0 0 0 0;\n",
              "      width: 32px;\n",
              "    }\n",
              "\n",
              "    .colab-df-convert:hover {\n",
              "      background-color: #E2EBFA;\n",
              "      box-shadow: 0px 1px 2px rgba(60, 64, 67, 0.3), 0px 1px 3px 1px rgba(60, 64, 67, 0.15);\n",
              "      fill: #174EA6;\n",
              "    }\n",
              "\n",
              "    .colab-df-buttons div {\n",
              "      margin-bottom: 4px;\n",
              "    }\n",
              "\n",
              "    [theme=dark] .colab-df-convert {\n",
              "      background-color: #3B4455;\n",
              "      fill: #D2E3FC;\n",
              "    }\n",
              "\n",
              "    [theme=dark] .colab-df-convert:hover {\n",
              "      background-color: #434B5C;\n",
              "      box-shadow: 0px 1px 3px 1px rgba(0, 0, 0, 0.15);\n",
              "      filter: drop-shadow(0px 1px 2px rgba(0, 0, 0, 0.3));\n",
              "      fill: #FFFFFF;\n",
              "    }\n",
              "  </style>\n",
              "\n",
              "    <script>\n",
              "      const buttonEl =\n",
              "        document.querySelector('#df-62454d24-d05f-4994-b3dc-1be5a2ec361b button.colab-df-convert');\n",
              "      buttonEl.style.display =\n",
              "        google.colab.kernel.accessAllowed ? 'block' : 'none';\n",
              "\n",
              "      async function convertToInteractive(key) {\n",
              "        const element = document.querySelector('#df-62454d24-d05f-4994-b3dc-1be5a2ec361b');\n",
              "        const dataTable =\n",
              "          await google.colab.kernel.invokeFunction('convertToInteractive',\n",
              "                                                    [key], {});\n",
              "        if (!dataTable) return;\n",
              "\n",
              "        const docLinkHtml = 'Like what you see? Visit the ' +\n",
              "          '<a target=\"_blank\" href=https://colab.research.google.com/notebooks/data_table.ipynb>data table notebook</a>'\n",
              "          + ' to learn more about interactive tables.';\n",
              "        element.innerHTML = '';\n",
              "        dataTable['output_type'] = 'display_data';\n",
              "        await google.colab.output.renderOutput(dataTable, element);\n",
              "        const docLink = document.createElement('div');\n",
              "        docLink.innerHTML = docLinkHtml;\n",
              "        element.appendChild(docLink);\n",
              "      }\n",
              "    </script>\n",
              "  </div>\n",
              "\n",
              "\n",
              "<div id=\"df-2098d65b-743f-47a5-ac7b-a5b950db62d5\">\n",
              "  <button class=\"colab-df-quickchart\" onclick=\"quickchart('df-2098d65b-743f-47a5-ac7b-a5b950db62d5')\"\n",
              "            title=\"Suggest charts\"\n",
              "            style=\"display:none;\">\n",
              "\n",
              "<svg xmlns=\"http://www.w3.org/2000/svg\" height=\"24px\"viewBox=\"0 0 24 24\"\n",
              "     width=\"24px\">\n",
              "    <g>\n",
              "        <path d=\"M19 3H5c-1.1 0-2 .9-2 2v14c0 1.1.9 2 2 2h14c1.1 0 2-.9 2-2V5c0-1.1-.9-2-2-2zM9 17H7v-7h2v7zm4 0h-2V7h2v10zm4 0h-2v-4h2v4z\"/>\n",
              "    </g>\n",
              "</svg>\n",
              "  </button>\n",
              "\n",
              "<style>\n",
              "  .colab-df-quickchart {\n",
              "      --bg-color: #E8F0FE;\n",
              "      --fill-color: #1967D2;\n",
              "      --hover-bg-color: #E2EBFA;\n",
              "      --hover-fill-color: #174EA6;\n",
              "      --disabled-fill-color: #AAA;\n",
              "      --disabled-bg-color: #DDD;\n",
              "  }\n",
              "\n",
              "  [theme=dark] .colab-df-quickchart {\n",
              "      --bg-color: #3B4455;\n",
              "      --fill-color: #D2E3FC;\n",
              "      --hover-bg-color: #434B5C;\n",
              "      --hover-fill-color: #FFFFFF;\n",
              "      --disabled-bg-color: #3B4455;\n",
              "      --disabled-fill-color: #666;\n",
              "  }\n",
              "\n",
              "  .colab-df-quickchart {\n",
              "    background-color: var(--bg-color);\n",
              "    border: none;\n",
              "    border-radius: 50%;\n",
              "    cursor: pointer;\n",
              "    display: none;\n",
              "    fill: var(--fill-color);\n",
              "    height: 32px;\n",
              "    padding: 0;\n",
              "    width: 32px;\n",
              "  }\n",
              "\n",
              "  .colab-df-quickchart:hover {\n",
              "    background-color: var(--hover-bg-color);\n",
              "    box-shadow: 0 1px 2px rgba(60, 64, 67, 0.3), 0 1px 3px 1px rgba(60, 64, 67, 0.15);\n",
              "    fill: var(--button-hover-fill-color);\n",
              "  }\n",
              "\n",
              "  .colab-df-quickchart-complete:disabled,\n",
              "  .colab-df-quickchart-complete:disabled:hover {\n",
              "    background-color: var(--disabled-bg-color);\n",
              "    fill: var(--disabled-fill-color);\n",
              "    box-shadow: none;\n",
              "  }\n",
              "\n",
              "  .colab-df-spinner {\n",
              "    border: 2px solid var(--fill-color);\n",
              "    border-color: transparent;\n",
              "    border-bottom-color: var(--fill-color);\n",
              "    animation:\n",
              "      spin 1s steps(1) infinite;\n",
              "  }\n",
              "\n",
              "  @keyframes spin {\n",
              "    0% {\n",
              "      border-color: transparent;\n",
              "      border-bottom-color: var(--fill-color);\n",
              "      border-left-color: var(--fill-color);\n",
              "    }\n",
              "    20% {\n",
              "      border-color: transparent;\n",
              "      border-left-color: var(--fill-color);\n",
              "      border-top-color: var(--fill-color);\n",
              "    }\n",
              "    30% {\n",
              "      border-color: transparent;\n",
              "      border-left-color: var(--fill-color);\n",
              "      border-top-color: var(--fill-color);\n",
              "      border-right-color: var(--fill-color);\n",
              "    }\n",
              "    40% {\n",
              "      border-color: transparent;\n",
              "      border-right-color: var(--fill-color);\n",
              "      border-top-color: var(--fill-color);\n",
              "    }\n",
              "    60% {\n",
              "      border-color: transparent;\n",
              "      border-right-color: var(--fill-color);\n",
              "    }\n",
              "    80% {\n",
              "      border-color: transparent;\n",
              "      border-right-color: var(--fill-color);\n",
              "      border-bottom-color: var(--fill-color);\n",
              "    }\n",
              "    90% {\n",
              "      border-color: transparent;\n",
              "      border-bottom-color: var(--fill-color);\n",
              "    }\n",
              "  }\n",
              "</style>\n",
              "\n",
              "  <script>\n",
              "    async function quickchart(key) {\n",
              "      const quickchartButtonEl =\n",
              "        document.querySelector('#' + key + ' button');\n",
              "      quickchartButtonEl.disabled = true;  // To prevent multiple clicks.\n",
              "      quickchartButtonEl.classList.add('colab-df-spinner');\n",
              "      try {\n",
              "        const charts = await google.colab.kernel.invokeFunction(\n",
              "            'suggestCharts', [key], {});\n",
              "      } catch (error) {\n",
              "        console.error('Error during call to suggestCharts:', error);\n",
              "      }\n",
              "      quickchartButtonEl.classList.remove('colab-df-spinner');\n",
              "      quickchartButtonEl.classList.add('colab-df-quickchart-complete');\n",
              "    }\n",
              "    (() => {\n",
              "      let quickchartButtonEl =\n",
              "        document.querySelector('#df-2098d65b-743f-47a5-ac7b-a5b950db62d5 button');\n",
              "      quickchartButtonEl.style.display =\n",
              "        google.colab.kernel.accessAllowed ? 'block' : 'none';\n",
              "    })();\n",
              "  </script>\n",
              "</div>\n",
              "    </div>\n",
              "  </div>\n"
            ]
          },
          "metadata": {},
          "execution_count": 16
        }
      ]
    },
    {
      "cell_type": "markdown",
      "source": [
        "The categorical variables in the dataset offer insightful details about user behavior and characteristics. Below is a summary of these variables:\n",
        "\n",
        "Group:\n",
        "\n",
        "This variable categorizes users into two groups: 'control' and 'treatment'.\n",
        "Out of the 100 observations, each group ('control' and 'treatment') appears 50 times, indicating an equal distribution of users in both groups.\n",
        "\n",
        "Landing Page:\n",
        "\n",
        "The 'landing_page' variable distinguishes between two types of pages: 'old' and 'new'.\n",
        "Similar to the 'group' variable, there is an equal split in the dataset with each type of landing page ('old' and 'new') being represented by 50 observations each.\n",
        "\n",
        "Converted:\n",
        "\n",
        "This variable indicates whether a user converted or not, with possible values being 'yes' or 'no'.\n",
        "In the dataset, 'yes' appears more frequently with 54 instances, suggesting that a slight majority of the users ended up converting.\n",
        "\n",
        "Language Preferred:\n",
        "\n",
        "The 'language_preferred' variable captures the preferred language of the user, which includes 'Spanish', 'English', and 'French'.\n",
        "'Spanish' is the most common preference, represented by 34 users, followed by 'English' and 'French'. This indicates a diverse user base in terms of language preference."
      ],
      "metadata": {
        "id": "Ju4EffxahEoK"
      },
      "id": "Ju4EffxahEoK"
    },
    {
      "cell_type": "markdown",
      "source": [
        "#Checking for missing values"
      ],
      "metadata": {
        "id": "D33U5tZhi9B7"
      },
      "id": "D33U5tZhi9B7"
    },
    {
      "cell_type": "code",
      "source": [
        "df2.isnull().sum()"
      ],
      "metadata": {
        "colab": {
          "base_uri": "https://localhost:8080/"
        },
        "id": "BLH5kHVyjAuY",
        "outputId": "ebd41fbe-661e-4104-c579-2ffac31f4b3b"
      },
      "id": "BLH5kHVyjAuY",
      "execution_count": 17,
      "outputs": [
        {
          "output_type": "execute_result",
          "data": {
            "text/plain": [
              "user_id                   0\n",
              "group                     0\n",
              "landing_page              0\n",
              "time_spent_on_the_page    0\n",
              "converted                 0\n",
              "language_preferred        0\n",
              "dtype: int64"
            ]
          },
          "metadata": {},
          "execution_count": 17
        }
      ]
    },
    {
      "cell_type": "markdown",
      "source": [
        "The dataset has no missing values"
      ],
      "metadata": {
        "id": "kY2EI3jMjlnx"
      },
      "id": "kY2EI3jMjlnx"
    },
    {
      "cell_type": "markdown",
      "source": [
        "#Check for duplicates"
      ],
      "metadata": {
        "id": "ros4EImgjS9H"
      },
      "id": "ros4EImgjS9H"
    },
    {
      "cell_type": "code",
      "source": [
        "df2.duplicated().sum()"
      ],
      "metadata": {
        "colab": {
          "base_uri": "https://localhost:8080/"
        },
        "id": "Tm43t6n4jOxD",
        "outputId": "48c73f8b-49b6-4c20-bfb4-c90e7a8f8a27"
      },
      "id": "Tm43t6n4jOxD",
      "execution_count": 18,
      "outputs": [
        {
          "output_type": "execute_result",
          "data": {
            "text/plain": [
              "0"
            ]
          },
          "metadata": {},
          "execution_count": 18
        }
      ]
    },
    {
      "cell_type": "markdown",
      "source": [
        "The data set contains no duplicates"
      ],
      "metadata": {
        "id": "DHun8kgYjo9J"
      },
      "id": "DHun8kgYjo9J"
    },
    {
      "cell_type": "markdown",
      "metadata": {
        "id": "68f3b2c9"
      },
      "source": [
        "### Univariate Analysis"
      ],
      "id": "68f3b2c9"
    },
    {
      "cell_type": "markdown",
      "source": [
        "###Time spent on the page"
      ],
      "metadata": {
        "id": "cX4avKumj4Ry"
      },
      "id": "cX4avKumj4Ry"
    },
    {
      "cell_type": "code",
      "metadata": {
        "id": "1932d0f3",
        "colab": {
          "base_uri": "https://localhost:8080/",
          "height": 883
        },
        "outputId": "5cfc7054-678f-44d4-e27e-215b2f35544c"
      },
      "source": [
        "sns.histplot(data=df2,x='time_spent_on_the_page')\n",
        "plt.show()\n",
        "sns.boxplot(data=df2,x='time_spent_on_the_page')\n",
        "plt.show()"
      ],
      "id": "1932d0f3",
      "execution_count": 19,
      "outputs": [
        {
          "output_type": "display_data",
          "data": {
            "text/plain": [
              "<Figure size 640x480 with 1 Axes>"
            ],
            "image/png": "[encoded data removed]"
          },
          "metadata": {}
        },
        {
          "output_type": "display_data",
          "data": {
            "text/plain": [
              "<Figure size 640x480 with 1 Axes>"
            ],
            "image/png": "[encoded data removed]"
          },
          "metadata": {}
        }
      ]
    },
    {
      "cell_type": "markdown",
      "source": [
        "Histogram Plot\n",
        "Description: The histogram displays the frequency distribution of the 'time spent on the page'.\n",
        "\n",
        "Interpretation:\n",
        "\n",
        "The histogram appears to be somewhat symmetric or slightly right-skewed, indicating that most users spend a moderate amount of time on the page, with fewer users spending very short or very long durations.\n",
        "\n",
        "The presence of bars across a range of time intervals suggests a varied engagement time among users.\n",
        "\n",
        "Boxplot\n",
        "Description: The boxplot visualizes the spread and central tendency of the 'time spent on the page'.\n",
        "\n",
        "Interpretation:\n",
        "\n",
        "The central box of the plot represents the interquartile range (IQR), encompassing the middle 50% of the data.\n",
        "\n",
        "The line inside the box marks the median (or 50th percentile) of the data, giving an idea of the typical time spent on the page.In this case, it's around the 5.4-minute mark. The 'whiskers' extend from either side of the box to the minimum and maximum values that are not considered outliers.\n",
        "\n",
        "[The box plot demonstrates that the distribution of time users spent on the page is fairly concentrated with a median slightly above 5 minutes. The data is relatively symmetric around the median, with no extreme outliers, indicating a consistent user engagement on the page.]"
      ],
      "metadata": {
        "id": "o726z7eInNu0"
      },
      "id": "o726z7eInNu0"
    },
    {
      "cell_type": "markdown",
      "source": [
        "##Group"
      ],
      "metadata": {
        "id": "ILM_AoS_mR8X"
      },
      "id": "ILM_AoS_mR8X"
    },
    {
      "cell_type": "code",
      "source": [
        "df2['group'].value_counts()"
      ],
      "metadata": {
        "colab": {
          "base_uri": "https://localhost:8080/"
        },
        "id": "TEU9psDJmhUT",
        "outputId": "feef296a-787b-4bf9-d214-de3a09cc5021"
      },
      "id": "TEU9psDJmhUT",
      "execution_count": 20,
      "outputs": [
        {
          "output_type": "execute_result",
          "data": {
            "text/plain": [
              "control      50\n",
              "treatment    50\n",
              "Name: group, dtype: int64"
            ]
          },
          "metadata": {},
          "execution_count": 20
        }
      ]
    },
    {
      "cell_type": "code",
      "source": [
        "sns.countplot(data=df2,x='group')\n",
        "plt.show()"
      ],
      "metadata": {
        "colab": {
          "base_uri": "https://localhost:8080/",
          "height": 449
        },
        "id": "31cDoYHrmntY",
        "outputId": "5662e37b-93d2-4aaa-a7ea-01cf0c1f5ffd"
      },
      "id": "31cDoYHrmntY",
      "execution_count": 21,
      "outputs": [
        {
          "output_type": "display_data",
          "data": {
            "text/plain": [
              "<Figure size 640x480 with 1 Axes>"
            ],
            "image/png": "[encoded data removed]"
          },
          "metadata": {}
        }
      ]
    },
    {
      "cell_type": "markdown",
      "source": [
        "Equal Representation:\n",
        "Both groups are equally represented in the dataset, with each group having 50 users. This equal representation ensures fairness in the comparison and allows for more accurate conclusions about the effect of the treatment or intervention being tested."
      ],
      "metadata": {
        "id": "rWu2QyPsm_WI"
      },
      "id": "rWu2QyPsm_WI"
    },
    {
      "cell_type": "markdown",
      "source": [
        "##Landing page"
      ],
      "metadata": {
        "id": "_0BH9ukQnBxH"
      },
      "id": "_0BH9ukQnBxH"
    },
    {
      "cell_type": "code",
      "source": [
        "df2['landing_page'].value_counts()"
      ],
      "metadata": {
        "colab": {
          "base_uri": "https://localhost:8080/"
        },
        "id": "wd9DfBaSnFju",
        "outputId": "b9711a5c-b00e-4468-db8f-823dfce06d16"
      },
      "id": "wd9DfBaSnFju",
      "execution_count": 22,
      "outputs": [
        {
          "output_type": "execute_result",
          "data": {
            "text/plain": [
              "old    50\n",
              "new    50\n",
              "Name: landing_page, dtype: int64"
            ]
          },
          "metadata": {},
          "execution_count": 22
        }
      ]
    },
    {
      "cell_type": "code",
      "source": [
        "sns.countplot(data=df2,x='landing_page')\n",
        "plt.show()"
      ],
      "metadata": {
        "colab": {
          "base_uri": "https://localhost:8080/",
          "height": 450
        },
        "id": "2SxT6n8-nkDH",
        "outputId": "24922099-f7d1-451b-a53d-0761434a6478"
      },
      "id": "2SxT6n8-nkDH",
      "execution_count": 24,
      "outputs": [
        {
          "output_type": "display_data",
          "data": {
            "text/plain": [
              "<Figure size 640x480 with 1 Axes>"
            ],
            "image/png": "[encoded data removed]"
          },
          "metadata": {}
        }
      ]
    },
    {
      "cell_type": "markdown",
      "source": [
        "This plot displays the counts or frequencies of users associated with different types of landing pages.\n",
        "\n",
        "The x-axis represents the categories within the 'landing_page' column, typically 'old' and 'new'.\n",
        "\n",
        "The y-axis shows the number of users who visited each type of landing page.\n",
        "\n",
        "Equal Distribution:\n",
        "\n",
        "The plot illustrates an equal distribution between the two types of landing pages, 'old' and 'new'. Each type of landing page has been visited by 50 users in the dataset."
      ],
      "metadata": {
        "id": "ILPwx36Bn0ho"
      },
      "id": "ILPwx36Bn0ho"
    },
    {
      "cell_type": "markdown",
      "source": [
        "##Converted"
      ],
      "metadata": {
        "id": "hv3RZdupoj_a"
      },
      "id": "hv3RZdupoj_a"
    },
    {
      "cell_type": "code",
      "source": [
        "df2['converted'].value_counts()"
      ],
      "metadata": {
        "colab": {
          "base_uri": "https://localhost:8080/"
        },
        "id": "8nYmbqZAom5z",
        "outputId": "d4ff958a-1e7b-4655-c4db-c7fad6c6014d"
      },
      "id": "8nYmbqZAom5z",
      "execution_count": 25,
      "outputs": [
        {
          "output_type": "execute_result",
          "data": {
            "text/plain": [
              "yes    54\n",
              "no     46\n",
              "Name: converted, dtype: int64"
            ]
          },
          "metadata": {},
          "execution_count": 25
        }
      ]
    },
    {
      "cell_type": "code",
      "source": [
        "sns.countplot(data=df2,x='converted')\n",
        "plt.show()"
      ],
      "metadata": {
        "colab": {
          "base_uri": "https://localhost:8080/",
          "height": 449
        },
        "id": "irQIVq-VotJT",
        "outputId": "a88da1de-e8c2-490a-cd10-72ac554eb1d4"
      },
      "id": "irQIVq-VotJT",
      "execution_count": 26,
      "outputs": [
        {
          "output_type": "display_data",
          "data": {
            "text/plain": [
              "<Figure size 640x480 with 1 Axes>"
            ],
            "image/png": "[encoded data removed]"
          },
          "metadata": {}
        }
      ]
    },
    {
      "cell_type": "markdown",
      "source": [
        "This plot visualizes the frequency of conversion status among users.\n",
        "The x-axis categorizes users based on whether they converted ('yes') or not ('no').\n",
        "The y-axis shows the count of users in each conversion category.\n",
        "\n",
        "It offers a glimpse into the effectiveness of the website or campaign from a conversion standpoint. The fact that conversions are slightly more frequent than non-conversions could be a positive indicator for the website or campaign's performance."
      ],
      "metadata": {
        "id": "mhe6soejo1n6"
      },
      "id": "mhe6soejo1n6"
    },
    {
      "cell_type": "markdown",
      "source": [
        "##Language preferred"
      ],
      "metadata": {
        "id": "9UjCJOdupWow"
      },
      "id": "9UjCJOdupWow"
    },
    {
      "cell_type": "code",
      "source": [
        "df2['language_preferred'].value_counts()"
      ],
      "metadata": {
        "colab": {
          "base_uri": "https://localhost:8080/"
        },
        "id": "8Ju8J1yLpc_T",
        "outputId": "79a69ef6-42e0-4af4-c8e6-c8c0e7910379"
      },
      "id": "8Ju8J1yLpc_T",
      "execution_count": 27,
      "outputs": [
        {
          "output_type": "execute_result",
          "data": {
            "text/plain": [
              "Spanish    34\n",
              "French     34\n",
              "English    32\n",
              "Name: language_preferred, dtype: int64"
            ]
          },
          "metadata": {},
          "execution_count": 27
        }
      ]
    },
    {
      "cell_type": "code",
      "source": [
        "sns.countplot(data=df2,x='language_preferred')\n",
        "plt.show()"
      ],
      "metadata": {
        "colab": {
          "base_uri": "https://localhost:8080/",
          "height": 450
        },
        "id": "6fDThkcOppl4",
        "outputId": "22ef676c-d148-4b0c-ee3c-8930ea83267c"
      },
      "id": "6fDThkcOppl4",
      "execution_count": 28,
      "outputs": [
        {
          "output_type": "display_data",
          "data": {
            "text/plain": [
              "<Figure size 640x480 with 1 Axes>"
            ],
            "image/png": "[encoded data removed]"
          },
          "metadata": {}
        }
      ]
    },
    {
      "cell_type": "markdown",
      "source": [
        "This plot illustrates the frequency distribution of the preferred language among users.\n",
        "The x-axis represents the different languages preferred by the users, such as 'Spanish', 'English', and 'French'.\n",
        "The y-axis indicates the count of users who prefer each language.\n",
        "The height of each bar corresponds to the number of users for each language preference.\n",
        "\n",
        "**Distribution of Language Preferences: **\n",
        "\n",
        "The plot shows that the most preferred language among the users is 'Spanish', followed by 'English' and then 'French'.\n",
        "\n",
        "\n",
        "**User Diversity: **\n",
        "\n",
        "This distribution signifies a diverse user base in terms of language preferences, which could be important for tailoring content, marketing strategies, or user experience to suit different linguistic groups.\n",
        "\n",
        "\n",
        "**Insights for Localization: **\n",
        "\n",
        "The prevalence of 'Spanish' as the most preferred language may suggest a focus area for localized content or targeted marketing efforts. Similarly, the presence of 'English' and 'French' speaking users underlines the need for multilingual support."
      ],
      "metadata": {
        "id": "BcoX6rYwp6NI"
      },
      "id": "BcoX6rYwp6NI"
    },
    {
      "cell_type": "markdown",
      "metadata": {
        "id": "fad2de2f"
      },
      "source": [
        "### Bivariate Analysis"
      ],
      "id": "fad2de2f"
    },
    {
      "cell_type": "markdown",
      "source": [
        "###Landing page vs Time spent on the page"
      ],
      "metadata": {
        "id": "sAMtl-zUqiK5"
      },
      "id": "sAMtl-zUqiK5"
    },
    {
      "cell_type": "code",
      "metadata": {
        "id": "58e9a1d0",
        "colab": {
          "base_uri": "https://localhost:8080/",
          "height": 542
        },
        "outputId": "ea985cd3-b7ca-4214-88d8-9fee859a4f0f"
      },
      "source": [
        "plt.figure(figsize=(10,6))\n",
        "sns.boxplot(data=df2,x='landing_page',y='time_spent_on_the_page')\n",
        "plt.show()"
      ],
      "id": "58e9a1d0",
      "execution_count": 29,
      "outputs": [
        {
          "output_type": "display_data",
          "data": {
            "text/plain": [
              "<Figure size 1000x600 with 1 Axes>"
            ],
            "image/png": "[encoded data removed]"
          },
          "metadata": {}
        }
      ]
    },
    {
      "cell_type": "markdown",
      "source": [
        "This plot shows the distribution of the time users spent on the page, segmented by the type of landing page ('old' vs. 'new').\n",
        "The x-axis categorizes the data into two groups based on the landing page type.\n",
        "The y-axis represents the time (in minutes) spent on the page.\n",
        "Each box in the plot represents the interquartile range (IQR) for the time spent on the page, with a line within the box indicating the median.\n",
        "\n",
        "Differences in Median Time:\n",
        "\n",
        "There is a noticeable difference in the median time spent on the page between the old and new landing pages (4.5 and 6.5 respectively). The new landing page appears to have a higher median time compared to the old one.\n",
        "\n",
        "Spread of Data:\n",
        "\n",
        "The spread (IQR) for both types of landing pages is significant, indicating variability in how long users spend on the page. However, the IQR for the new landing page is wider, suggesting greater variability.\n",
        "\n",
        "[The boxplot suggests that the new landing page is potentially more engaging, as indicated by the higher median time users spend on it (6.5 minutes)compared to the old page (4.5 minutes). The variability in time spent on both pages also highlights the diverse nature of user engagement. The absence of significant outliers suggests a consistent user experience across both types of pages]"
      ],
      "metadata": {
        "id": "IUHL45Z3q74m"
      },
      "id": "IUHL45Z3q74m"
    },
    {
      "cell_type": "markdown",
      "source": [
        "##Conversion status vs Time spent on the page"
      ],
      "metadata": {
        "id": "mgWWqkArtfUW"
      },
      "id": "mgWWqkArtfUW"
    },
    {
      "cell_type": "code",
      "source": [
        "plt.figure(figsize=(9, 9))\n",
        "sns.boxplot(data = df2, x = 'converted', y = 'time_spent_on_the_page')\n",
        "plt.show()"
      ],
      "metadata": {
        "colab": {
          "base_uri": "https://localhost:8080/",
          "height": 773
        },
        "id": "NSj01v7QtjZ0",
        "outputId": "5a5b312a-e6a0-43af-89f8-5767b7267119"
      },
      "id": "NSj01v7QtjZ0",
      "execution_count": 31,
      "outputs": [
        {
          "output_type": "display_data",
          "data": {
            "text/plain": [
              "<Figure size 900x900 with 1 Axes>"
            ],
            "image/png": "[encoded data removed]"
          },
          "metadata": {}
        }
      ]
    },
    {
      "cell_type": "markdown",
      "source": [
        "The x-axis categorizes the data based on the conversion status of users, with categories 'yes' and 'no'.\n",
        "The y-axis represents the time users spent on the page, measured in minutes.\n",
        "Each boxplot shows the distribution of time spent on the page for each conversion status.\n",
        "\n",
        "Difference in Median Time:\n",
        "\n",
        "There is a notable difference in the median time spent on the page between users who converted and those who did not. Users who converted ('yes') have a higher median time spent on the page compared to users who did not convert ('no').\n",
        "\n",
        "Outliers:\n",
        "\n",
        "There are a few outliers in both categories, but they are more pronounced in the 'converted' category. These outliers represent users who spent unusually more or less time on the page than most others.\n",
        "\n",
        "[The boxplot suggests a strong correlation between the time spent on the page and the likelihood of conversion. Users who spend more time on the page are generally more likely to convert. The wider spread in the 'converted' category implies that while many converted users spend a lot of time on the page, there's still a significant variation.]"
      ],
      "metadata": {
        "id": "yZe2cJ0TuGQo"
      },
      "id": "yZe2cJ0TuGQo"
    },
    {
      "cell_type": "markdown",
      "source": [
        "##Language preferred vs Time spent on the page"
      ],
      "metadata": {
        "id": "7okRLUGguf4H"
      },
      "id": "7okRLUGguf4H"
    },
    {
      "cell_type": "code",
      "source": [
        "plt.figure(figsize=(9, 9))\n",
        "sns.boxplot(data = df2, x ='language_preferred', y = 'time_spent_on_the_page')\n",
        "plt.show()"
      ],
      "metadata": {
        "colab": {
          "base_uri": "https://localhost:8080/",
          "height": 773
        },
        "id": "AdGKUQmouj0z",
        "outputId": "b6f69afc-5d7b-45b8-c065-2a8c4a86224f"
      },
      "id": "AdGKUQmouj0z",
      "execution_count": 34,
      "outputs": [
        {
          "output_type": "display_data",
          "data": {
            "text/plain": [
              "<Figure size 900x900 with 1 Axes>"
            ],
            "image/png": "[encoded data removed]"
          },
          "metadata": {}
        }
      ]
    },
    {
      "cell_type": "markdown",
      "source": [
        "The x-axis categorizes users based on their preferred language, which includes languages like 'Spanish', 'English', and 'French'.\n",
        "The y-axis represents the time spent on the page, measured in minutes.\n",
        "Each boxplot shows the distribution of time spent on the page for each language preference.\n",
        "\n",
        "Median Time Across Languages:\n",
        "\n",
        "There are noticeable differences in the median time spent on the page among the different language preference groups. The medians for each language group vary(Spanish=5.5, English=5.7 and French=4.9), this suggests differences in engagement and content interaction based on language preference.\n",
        "\n",
        "\n",
        "Spread of Data:\n",
        "\n",
        "The spread (IQR) differs among the language groups. This indicates variability in the time spent on the page within each language group. English group show a wider spread, suggesting more variability in user engagement times.\n",
        "\n",
        "Outliers:\n",
        "\n",
        "There appear to be a few outliers in the spanish language category. These outliers represent users who spent significantly more or less time on the page than the average user in the spanish language group.\n",
        "\n",
        "[The boxplot provides insights into user engagement with the webpage content, segmented by language preference. The differences in median times and the spread of data across the language groups reflect varying levels of accessibility for users of different languages. The presence of outliers in the groups indicates that while there are typical user engagement patterns for each language, there are also exceptions.]"
      ],
      "metadata": {
        "id": "0WPbCI9Ku6yS"
      },
      "id": "0WPbCI9Ku6yS"
    },
    {
      "cell_type": "markdown",
      "metadata": {
        "id": "27906576"
      },
      "source": [
        "## 1. Do the users spend more time on the new landing page than the existing landing page?"
      ],
      "id": "27906576"
    },
    {
      "cell_type": "markdown",
      "metadata": {
        "id": "e5fdf0c8"
      },
      "source": [
        "### Perform Visual Analysis"
      ],
      "id": "e5fdf0c8"
    },
    {
      "cell_type": "code",
      "metadata": {
        "id": "6eZJa41eg21n",
        "colab": {
          "base_uri": "https://localhost:8080/",
          "height": 542
        },
        "outputId": "9785280f-ee34-44ec-fdea-50286e0fe31c"
      },
      "source": [
        "# visual analysis of the time spent on the new page and the time spent on the old page\n",
        "plt.figure(figsize=(8,6))\n",
        "sns.boxplot( data = df2, x = 'landing_page', y = 'time_spent_on_the_page')\n",
        "plt.show()"
      ],
      "id": "6eZJa41eg21n",
      "execution_count": 33,
      "outputs": [
        {
          "output_type": "display_data",
          "data": {
            "text/plain": [
              "<Figure size 800x600 with 1 Axes>"
            ],
            "image/png": "[encoded data removed]"
          },
          "metadata": {}
        }
      ]
    },
    {
      "cell_type": "markdown",
      "source": [
        "The x-axis categorizes the data into two types of landing pages: 'old' and 'new'.\n",
        "The y-axis represents the time users spent on these pages, measured in minutes.\n",
        "Each boxplot shows the distribution of time spent on the page for each type of landing page\n",
        "\n",
        "Median Time:\n",
        "\n",
        "The median time spent on the new landing page appears to be higher (6.5minutes) than that on the old landing page (4.5 minutes). This suggests that, on average, users spend more time on the new page.\n",
        "\n",
        "Spread of Time Spent:\n",
        "\n",
        "The IQR for the new landing page is broader than for the old page, indicating a greater variability in the time users spend on the new page.\n",
        "\n",
        "Potential Outliers:\n",
        "There are a few outliers on both the new and old landing pages, indicating some users spent significantly more or less time on these pages than a typical user.\n",
        "\n",
        "[The boxplot demonstrates that users tend to spend more time on the new landing page compared to the old one, suggesting higher engagement with the new page. The wider spread in time on the new page also indicates diverse user interactions, which could be due to various factors like design, content, or user interest.]"
      ],
      "metadata": {
        "id": "5FFxKNvxxQXX"
      },
      "id": "5FFxKNvxxQXX"
    },
    {
      "cell_type": "markdown",
      "metadata": {
        "id": "56b3dafd"
      },
      "source": [
        "### Step 1: Define the null and alternate hypotheses"
      ],
      "id": "56b3dafd"
    },
    {
      "cell_type": "markdown",
      "metadata": {
        "id": "d2ac77ef"
      },
      "source": [
        "H0: The mean time spent on the new landing page is equal to or less than the mean time spent on the existing landing page.\n",
        "\n",
        "H0:μnew≤μold\n",
        "\n",
        "\n",
        "Ha:The mean time spent on the new landing page is greater than the mean time spent on the existing landing page.\n",
        "\n",
        "Ha:μnew>μold"
      ],
      "id": "d2ac77ef"
    },
    {
      "cell_type": "markdown",
      "metadata": {
        "id": "c7ee4907"
      },
      "source": [
        "### Step 2: Select Appropriate test"
      ],
      "id": "c7ee4907"
    },
    {
      "cell_type": "markdown",
      "metadata": {
        "id": "2c183cd7"
      },
      "source": [
        "The appropriate statistical test to use is the Independent Samples t-test ( two-sample t-test). The reasons for selecting this test are as follows:\n",
        "\n",
        "One-tailed Test: We are interested in testing whether one mean (time spent on the new landing page) is greater than the other (time spent on the existing landing page), which constitutes a one-tailed test.\n",
        "\n",
        "Two Independent Populations: The test involves comparing the means of two different groups (users of the new landing page vs. users of the existing landing page). These groups are independent of each other.\n",
        "\n",
        "Unknown Population Standard Deviations: The standard deviations of the populations are not known."
      ],
      "id": "2c183cd7"
    },
    {
      "cell_type": "markdown",
      "metadata": {
        "id": "3f58c9a7"
      },
      "source": [
        "### Step 3: Decide the significance level"
      ],
      "id": "3f58c9a7"
    },
    {
      "cell_type": "markdown",
      "metadata": {
        "id": "92d7d7ee"
      },
      "source": [
        "As given in the problem statement, the level of signifacnce will be α=0.05\n"
      ],
      "id": "92d7d7ee"
    },
    {
      "cell_type": "markdown",
      "metadata": {
        "id": "5fed2eac"
      },
      "source": [
        "### Step 4: Collect and prepare data"
      ],
      "id": "5fed2eac"
    },
    {
      "cell_type": "code",
      "metadata": {
        "id": "f5a59495"
      },
      "source": [
        "# create subsetted data frame for new landing page users\n",
        "new_page_users= df2[df2['landing_page'] == 'new']['time_spent_on_the_page']\n",
        "\n",
        "# create subsetted data frame for old landing page users\n",
        "old_page_users = df2[df2['landing_page'] == 'old']['time_spent_on_the_page']"
      ],
      "id": "f5a59495",
      "execution_count": 36,
      "outputs": []
    },
    {
      "cell_type": "code",
      "source": [
        "new_page_users.head(), old_page_users.head()"
      ],
      "metadata": {
        "colab": {
          "base_uri": "https://localhost:8080/"
        },
        "id": "fvs63XZ886Gc",
        "outputId": "c6e391ed-4718-4ac8-a916-0edd893f7bdb"
      },
      "id": "fvs63XZ886Gc",
      "execution_count": 38,
      "outputs": [
        {
          "output_type": "execute_result",
          "data": {
            "text/plain": [
              "(1     7.13\n",
              " 2     4.40\n",
              " 4     4.75\n",
              " 6     5.25\n",
              " 8    10.71\n",
              " Name: time_spent_on_the_page, dtype: float64,\n",
              " 0    3.48\n",
              " 3    3.02\n",
              " 5    5.28\n",
              " 7    6.53\n",
              " 9    2.08\n",
              " Name: time_spent_on_the_page, dtype: float64)"
            ]
          },
          "metadata": {},
          "execution_count": 38
        }
      ]
    },
    {
      "cell_type": "code",
      "source": [
        "print('The sample standard deviation of the time spent on the new page is:', round(new_page_users.std(),2))\n",
        "print('The sample standard deviation of the time spent on the new page is:', round(old_page_users.std(),2))"
      ],
      "metadata": {
        "colab": {
          "base_uri": "https://localhost:8080/"
        },
        "id": "XY2y8ht_9hCo",
        "outputId": "536bedbb-d9e2-4398-8b9f-185d87583813"
      },
      "id": "XY2y8ht_9hCo",
      "execution_count": 39,
      "outputs": [
        {
          "output_type": "stream",
          "name": "stdout",
          "text": [
            "The sample standard deviation of the time spent on the new page is: 1.82\n",
            "The sample standard deviation of the time spent on the new page is: 2.58\n"
          ]
        }
      ]
    },
    {
      "cell_type": "markdown",
      "source": [
        "Let's compare the two standard deviations:\n",
        "\n",
        "The largest standard deviation (2.58 for old page users) is not more than twice the smallest standard deviation (1.82 for new page users).\n",
        "\n",
        "2.58 is not greater than 2\n",
        "×\n",
        "1.82\n",
        "\n",
        "Based on this guideline, it might be reasonable to assume that the population standard deviations are not significantly different."
      ],
      "metadata": {
        "id": "ClWxqFsL-UH3"
      },
      "id": "ClWxqFsL-UH3"
    },
    {
      "cell_type": "markdown",
      "metadata": {
        "id": "f5c5258d"
      },
      "source": [
        "### Step 5: Calculate the p-value"
      ],
      "id": "f5c5258d"
    },
    {
      "cell_type": "code",
      "source": [
        "# complete the code to import the required function\n",
        "from scipy.stats import stats"
      ],
      "metadata": {
        "id": "AVH8eEkw_1Tm"
      },
      "id": "AVH8eEkw_1Tm",
      "execution_count": 42,
      "outputs": []
    },
    {
      "cell_type": "code",
      "source": [
        "df2.columns\n",
        "\n",
        "\n"
      ],
      "metadata": {
        "colab": {
          "base_uri": "https://localhost:8080/"
        },
        "id": "AmD9ZOpUCm96",
        "outputId": "53770aaf-09a7-4a19-c998-3975dc66d65c"
      },
      "id": "AmD9ZOpUCm96",
      "execution_count": 50,
      "outputs": [
        {
          "output_type": "execute_result",
          "data": {
            "text/plain": [
              "Index(['user_id', 'group', 'landing_page', 'time_spent_on_the_page',\n",
              "       'converted', 'language_preferred'],\n",
              "      dtype='object')"
            ]
          },
          "metadata": {},
          "execution_count": 50
        }
      ]
    },
    {
      "cell_type": "code",
      "metadata": {
        "id": "fac8594a",
        "colab": {
          "base_uri": "https://localhost:8080/"
        },
        "outputId": "b656cd73-1beb-49cc-eb8a-17a649b1fd48"
      },
      "source": [
        "# complete the code to import the required function\n",
        "from scipy.stats import stats\n",
        "\n",
        "# write the code to calculate the p-value\n",
        "test_stat, p_value =  stats.ttest_ind(new_page_users, old_page_users, equal_var = False, alternative = ('greater'))\n",
        "\n",
        "print('The p-value is', p_value)"
      ],
      "id": "fac8594a",
      "execution_count": 59,
      "outputs": [
        {
          "output_type": "stream",
          "name": "stdout",
          "text": [
            "The p-value is 0.0001392381225166549\n"
          ]
        },
        {
          "output_type": "stream",
          "name": "stderr",
          "text": [
            "<ipython-input-59-e727c18bb0b9>:5: DeprecationWarning: Please use `ttest_ind` from the `scipy.stats` namespace, the `scipy.stats.stats` namespace is deprecated.\n",
            "  test_stat, p_value =  stats.ttest_ind(new_page_users, old_page_users, equal_var = False, alternative = ('greater'))\n"
          ]
        }
      ]
    },
    {
      "cell_type": "markdown",
      "source": [
        "P value of 0.0001 ≤ 0.05.\n",
        "\n",
        "This suggevsts that there is strong evidence against the null hypothesis, we therefore support the alternative hypothesis that users spend more time on the new landing page"
      ],
      "metadata": {
        "id": "wev7cdElEbZO"
      },
      "id": "wev7cdElEbZO"
    },
    {
      "cell_type": "markdown",
      "metadata": {
        "id": "359b12f8"
      },
      "source": [
        "### Step 6: Compare the p-value with $\\alpha$"
      ],
      "id": "359b12f8"
    },
    {
      "cell_type": "code",
      "metadata": {
        "id": "7be47289",
        "colab": {
          "base_uri": "https://localhost:8080/"
        },
        "outputId": "bd5a74eb-f7b0-48ce-94ef-3d1f1d312159"
      },
      "source": [
        "# print the conclusion based on p-value\n",
        "if p_value < 0.05:\n",
        "    print(f'As the p-value {p_value} is less than the level of significance, we reject the null hypothesis.')\n",
        "else:\n",
        "    print(f'As the p-value {p_value} is greater than the level of significance, we fail to reject the null hypothesis.')"
      ],
      "id": "7be47289",
      "execution_count": 60,
      "outputs": [
        {
          "output_type": "stream",
          "name": "stdout",
          "text": [
            "As the p-value 0.0001392381225166549 is less than the level of significance, we reject the null hypothesis.\n"
          ]
        }
      ]
    },
    {
      "cell_type": "markdown",
      "metadata": {
        "id": "d9affc84"
      },
      "source": [
        "### Step 7:  Draw inference"
      ],
      "id": "d9affc84"
    },
    {
      "cell_type": "code",
      "source": [
        "import matplotlib.pyplot as plt\n",
        "import numpy as np\n",
        "\n",
        "# Information for plotting\n",
        "p_value = 0.0001392381225166549\n",
        "alpha = 0.05  # Common level of significance\n",
        "\n",
        "# Plotting\n",
        "plt.figure(figsize=(10, 6))\n",
        "plt.plot([0, 1], [alpha, alpha], color='red', linestyle='--', label=f'Significance Level (α = {alpha})')\n",
        "plt.scatter(p_value, 0, color='blue', label=f'p-value = {p_value:.2e}')\n",
        "plt.xlim(0, 0.1)\n",
        "plt.ylim(-0.01, 0.1)\n",
        "plt.xlabel('Value')\n",
        "plt.ylabel('Density')\n",
        "plt.title('P-Value in Comparison to Significance Level')\n",
        "plt.legend()\n",
        "plt.show()\n"
      ],
      "metadata": {
        "colab": {
          "base_uri": "https://localhost:8080/",
          "height": 564
        },
        "id": "XH0nCxITGEcE",
        "outputId": "e61d7f7d-0258-4957-83af-fe14bbf83bbb"
      },
      "id": "XH0nCxITGEcE",
      "execution_count": 61,
      "outputs": [
        {
          "output_type": "display_data",
          "data": {
            "text/plain": [
              "<Figure size 1000x600 with 1 Axes>"
            ],
            "image/png": "[encoded data removed]"
          },
          "metadata": {}
        }
      ]
    },
    {
      "cell_type": "markdown",
      "metadata": {
        "id": "6b16dd4b"
      },
      "source": [
        "By rejecting the null hypothesis, we infer that there is statistically significant evidence to support the alternative hypothesis, which states that users spend more time on the new landing page compared to the existing (old) landing page.\n",
        "\n",
        "This suggests that the new landing page is more effective in terms of user engagement time."
      ],
      "id": "6b16dd4b"
    },
    {
      "cell_type": "markdown",
      "metadata": {
        "id": "1ad0823a"
      },
      "source": [
        "**A similar approach can be followed to answer the other questions.**"
      ],
      "id": "1ad0823a"
    },
    {
      "cell_type": "markdown",
      "metadata": {
        "id": "353e9d24"
      },
      "source": [
        "## 2. Is the conversion rate (the proportion of users who visit the landing page and get converted) for the new page greater than the conversion rate for the old page?"
      ],
      "id": "353e9d24"
    },
    {
      "cell_type": "markdown",
      "source": [
        "# Perform Visual Analysis"
      ],
      "metadata": {
        "id": "3iKAu0LjHBGm"
      },
      "id": "3iKAu0LjHBGm"
    },
    {
      "cell_type": "code",
      "source": [
        "\n",
        "# Creating subsetted dataframes for new and old landing page users\n",
        "new_page_users = df2[df2['landing_page'] == 'new']\n",
        "old_page_users = df2[df2['landing_page'] == 'old']\n",
        "\n",
        "# Calculating conversion rates\n",
        "conversion_rate_new = new_page_users['converted'].value_counts(normalize=True).get('yes', 0)\n",
        "conversion_rate_old = old_page_users['converted'].value_counts(normalize=True).get('yes', 0)\n",
        "\n",
        "# Creating a bar plot for conversion rates\n",
        "plt.figure(figsize=(8, 6))\n",
        "sns.barplot(x=['New Landing Page', 'Old Landing Page'], y=[conversion_rate_new, conversion_rate_old])\n",
        "plt.ylabel('Conversion Rate')\n",
        "plt.title('Conversion Rates: New vs Old Landing Page')\n",
        "plt.show()\n"
      ],
      "metadata": {
        "colab": {
          "base_uri": "https://localhost:8080/",
          "height": 545
        },
        "id": "B8PPTpttHIAf",
        "outputId": "a64db2b9-6522-40a4-cfca-38fed6a43eea"
      },
      "id": "B8PPTpttHIAf",
      "execution_count": 63,
      "outputs": [
        {
          "output_type": "display_data",
          "data": {
            "text/plain": [
              "<Figure size 800x600 with 1 Axes>"
            ],
            "image/png": "[encoded data removed]"
          },
          "metadata": {}
        }
      ]
    },
    {
      "cell_type": "markdown",
      "source": [
        "Higher Bar for New Page:\n",
        "\n",
        "Since the bar for the new landing page is higher than that for the old page, it suggests a higher conversion rate for the new landing page."
      ],
      "metadata": {
        "id": "gjl9F86tIbK0"
      },
      "id": "gjl9F86tIbK0"
    },
    {
      "cell_type": "markdown",
      "source": [
        "#Step 1: Define the null and alternate hypotheses"
      ],
      "metadata": {
        "id": "369RFCnZI0O-"
      },
      "id": "369RFCnZI0O-"
    },
    {
      "cell_type": "markdown",
      "source": [
        "HO: The conversion rate for the new landing page is less than or equal to the conversion rate for the old landing page.\n",
        "\n",
        "H0: μnew ≤μold\n",
        "\n",
        "H1: The conversion rate for the new landing page is greater than that for the old landing page.\n",
        "\n",
        "\n",
        "H1: μnew > μold"
      ],
      "metadata": {
        "id": "oXEtTfj7JDqD"
      },
      "id": "oXEtTfj7JDqD"
    },
    {
      "cell_type": "markdown",
      "source": [
        "#Step 2: Select Appropriate test"
      ],
      "metadata": {
        "id": "DRKA6wiEJlKC"
      },
      "id": "DRKA6wiEJlKC"
    },
    {
      "cell_type": "markdown",
      "source": [
        "Comparing Proportions: Since you're comparing conversion rates, which are proportions, you're dealing with categorical data.\n",
        "\n",
        "Two Independent Samples: The data from the new and old landing pages are independent of each other.\n",
        "\n",
        "Large Sample Size: If each group (new and old landing page visitors) is large enough (typically, each expected count should be at least 5), then normal approximation can be used.\n",
        "\n",
        "Given these considerations, the appropriate statistical test is a Two-Proportion Z-test. This test is used to determine whether two proportions are different from each other."
      ],
      "metadata": {
        "id": "XFmqXVgAKDvP"
      },
      "id": "XFmqXVgAKDvP"
    },
    {
      "cell_type": "markdown",
      "source": [
        "#Step 3: Decide the significance level"
      ],
      "metadata": {
        "id": "cMCxDA6YKOVQ"
      },
      "id": "cMCxDA6YKOVQ"
    },
    {
      "cell_type": "markdown",
      "source": [
        "As given in the problem statement, we select α = 0.05."
      ],
      "metadata": {
        "id": "jkyTG-tbKPCo"
      },
      "id": "jkyTG-tbKPCo"
    },
    {
      "cell_type": "markdown",
      "source": [
        "#Step 4: Collect and prepare data"
      ],
      "metadata": {
        "id": "spNtyWQnKVuX"
      },
      "id": "spNtyWQnKVuX"
    },
    {
      "cell_type": "code",
      "source": [
        "# Subset the data for new and old landing pages\n",
        "new_page_data = df2[df2['landing_page'] == 'new']\n",
        "old_page_data = df2[df2['landing_page'] == 'old']\n",
        "\n",
        "# Calculate number of conversions and total number of users for each group\n",
        "conversions_new = new_page_data['converted'].value_counts().get('yes', 0)\n",
        "total_new_treatment = len(new_page_data)\n",
        "\n",
        "conversions_old = old_page_data['converted'].value_counts().get('yes', 0)\n",
        "total_old_control = len(old_page_data)\n",
        "\n",
        "# Print the calculated values for verification\n",
        "print(\"New Page - Conversions:\", conversions_new, \", Total Users:\", total_new_treatment)\n",
        "print(\"Old Page - Conversions:\", conversions_old, \", Total Users:\", total_old_control)\n"
      ],
      "metadata": {
        "colab": {
          "base_uri": "https://localhost:8080/"
        },
        "id": "Yg91yqbeI2Fu",
        "outputId": "dbe65276-5283-46f3-82a7-4e398f6326ba"
      },
      "id": "Yg91yqbeI2Fu",
      "execution_count": 74,
      "outputs": [
        {
          "output_type": "stream",
          "name": "stdout",
          "text": [
            "New Page - Conversions: 33 , Total Users: 50\n",
            "Old Page - Conversions: 21 , Total Users: 50\n"
          ]
        }
      ]
    },
    {
      "cell_type": "markdown",
      "source": [
        "#Step 5: Calculate the p-value"
      ],
      "metadata": {
        "id": "CUIFp6QwQ1XX"
      },
      "id": "CUIFp6QwQ1XX"
    },
    {
      "cell_type": "code",
      "source": [
        "from statsmodels.stats.proportion import proportions_ztest\n",
        "\n",
        "# Assuming conversions_new is the number of conversions on the new page,\n",
        "# conversions_old is the number of conversions on the old page,\n",
        "# total_new_treatment is the total number of users who visited the new page,\n",
        "# and total_new_control is the total number of users who visited the old page.\n",
        "\n",
        "# Write the code to calculate the p-value\n",
        "test_stat, p_value = proportions_ztest([conversions_new, conversions_old], [total_new_treatment, total_old_control], alternative=('larger'))\n",
        "\n",
        "print('The p-value is', p_value)"
      ],
      "metadata": {
        "colab": {
          "base_uri": "https://localhost:8080/"
        },
        "id": "1kcVg4ZwPRCr",
        "outputId": "dfef9d7c-d608-4710-ff38-bb2d51fcfca2"
      },
      "id": "1kcVg4ZwPRCr",
      "execution_count": 75,
      "outputs": [
        {
          "output_type": "stream",
          "name": "stdout",
          "text": [
            "The p-value is 0.008026308204056278\n"
          ]
        }
      ]
    },
    {
      "cell_type": "markdown",
      "source": [
        "The P value of 0.008 < 0.05. This indicates strong evidence against the null hypothesis, suggesting that the conversion rate for the new page is significantly greater than for the old page."
      ],
      "metadata": {
        "id": "RSuucA7gQaYb"
      },
      "id": "RSuucA7gQaYb"
    },
    {
      "cell_type": "markdown",
      "source": [
        "#Step 6: Compare the p-value with  𝛼"
      ],
      "metadata": {
        "id": "sUQZR9YTQ-bW"
      },
      "id": "sUQZR9YTQ-bW"
    },
    {
      "cell_type": "code",
      "source": [
        "# print the conclusion based on p-value\n",
        "if p_value < 0.05:\n",
        "    print(f'As the p-value {p_value} is less than the level of significance, we reject the null hypothesis.')\n",
        "else:\n",
        "    print(f'As the p-value {p_value} is greater than the level of significance, we fail to reject the null hypothesis.')"
      ],
      "metadata": {
        "colab": {
          "base_uri": "https://localhost:8080/"
        },
        "id": "7X5YsDixRDfJ",
        "outputId": "d428d8ae-da87-4f4f-8b1a-55b583b1c664"
      },
      "id": "7X5YsDixRDfJ",
      "execution_count": 76,
      "outputs": [
        {
          "output_type": "stream",
          "name": "stdout",
          "text": [
            "As the p-value 0.008026308204056278 is less than the level of significance, we reject the null hypothesis.\n"
          ]
        }
      ]
    },
    {
      "cell_type": "markdown",
      "source": [
        "#Step 7: Draw inference"
      ],
      "metadata": {
        "id": "b7WtHgnKRfQr"
      },
      "id": "b7WtHgnKRfQr"
    },
    {
      "cell_type": "markdown",
      "source": [
        " Because the p-value is smaller than the threshold, you reject the null hypothesis.\n",
        "\n",
        " By rejecting the null hypothesis, this implies there is statistically significant evidence to suggest that the conversion rate for the new landing page is greater than that for the old landing page.\n",
        "\n",
        "Practical Implication: From a practical standpoint, this result could be interpreted as the new landing page being more effective at converting visitors than the old page. This might be due to various factors like improved design, better content, more engaging calls to action, etc."
      ],
      "metadata": {
        "id": "2cmLNzbZRw_S"
      },
      "id": "2cmLNzbZRw_S"
    },
    {
      "cell_type": "markdown",
      "metadata": {
        "id": "d49bfa2d"
      },
      "source": [
        "# 3. Does the converted status depend on the preferred language?"
      ],
      "id": "d49bfa2d"
    },
    {
      "cell_type": "markdown",
      "source": [
        "#Perform Visual Analysis"
      ],
      "metadata": {
        "id": "c1Kul4YjSpnP"
      },
      "id": "c1Kul4YjSpnP"
    },
    {
      "cell_type": "code",
      "source": [
        "# Create a contingency table\n",
        "contingency_table = pd.crosstab(df2['language_preferred'], df2['converted'])\n",
        "\n",
        "# Normalize the contingency table to get proportions\n",
        "contingency_table_normalized = contingency_table.div(contingency_table.sum(axis=1), axis=0)\n",
        "\n",
        "# Plotting\n",
        "contingency_table_normalized.plot(kind='bar', stacked=False, figsize=(10, 6))\n",
        "plt.title('Conversion Rates by Preferred Language')\n",
        "plt.xlabel('Preferred Language')\n",
        "plt.ylabel('Proportion of Users')\n",
        "plt.xticks(rotation=0)\n",
        "plt.show()\n"
      ],
      "metadata": {
        "colab": {
          "base_uri": "https://localhost:8080/",
          "height": 564
        },
        "id": "tvSHmBqSSrz6",
        "outputId": "d3d4cce3-e634-43df-dace-c3f6ce1a66c8"
      },
      "id": "tvSHmBqSSrz6",
      "execution_count": 77,
      "outputs": [
        {
          "output_type": "display_data",
          "data": {
            "text/plain": [
              "<Figure size 1000x600 with 1 Axes>"
            ],
            "image/png": "[encoded data removed]"
          },
          "metadata": {}
        }
      ]
    },
    {
      "cell_type": "markdown",
      "source": [
        "#Step 1: Define the null and alternate hypotheses"
      ],
      "metadata": {
        "id": "NyvSU6rYe5ce"
      },
      "id": "NyvSU6rYe5ce"
    },
    {
      "cell_type": "markdown",
      "source": [
        "Null Hypothesis (H0): There is no association between conversion status and preferred language.\n",
        "\n",
        "(they are independent)\n",
        "\n",
        "Alternative Hypothesis (H1): There is an association between conversion status and preferred language.\n",
        "\n",
        "(they are not independent)"
      ],
      "metadata": {
        "id": "GgICO1Cze9iy"
      },
      "id": "GgICO1Cze9iy"
    },
    {
      "cell_type": "markdown",
      "source": [
        "#Step 2: Select Appropriate test"
      ],
      "metadata": {
        "id": "sTtAFafyTY6T"
      },
      "id": "sTtAFafyTY6T"
    },
    {
      "cell_type": "markdown",
      "source": [
        "Categorical Variables: Both conversion status and preferred language are categorical variables. The Chi-Square test is ideal for such data.\n",
        "\n",
        "Independence Assessment: This test assesses whether the observed frequencies in a contingency table (which cross-tabulates the two variables) significantly differ from the frequencies you would expect if the two variables were independent of each other.\n",
        "\n",
        "Non-Parametric: The test doesn't assume anything about the distribution of the variables (unlike t-tests or ANOVA which assume normally distributed data).\n",
        "\n",
        "For testing the hypothesis that there is an association between conversion status (converted/not converted) and preferred language, the most appropriate statistical test is the Chi-Square Test of Independence. This test is specifically designed to determine if there is a significant relationship between two categorical variables."
      ],
      "metadata": {
        "id": "2xrEx1OMUwGo"
      },
      "id": "2xrEx1OMUwGo"
    },
    {
      "cell_type": "markdown",
      "source": [
        "#Step 3: Decide the significance level"
      ],
      "metadata": {
        "id": "pusBLkf2ULKq"
      },
      "id": "pusBLkf2ULKq"
    },
    {
      "cell_type": "markdown",
      "source": [
        "As given in the problem statement, we select α = 0.05."
      ],
      "metadata": {
        "id": "RDCr9CkYVBAA"
      },
      "id": "RDCr9CkYVBAA"
    },
    {
      "cell_type": "markdown",
      "source": [
        "#Step 4: Collect and prepare data"
      ],
      "metadata": {
        "id": "G92uwQK7VJFZ"
      },
      "id": "G92uwQK7VJFZ"
    },
    {
      "cell_type": "code",
      "source": [
        "# contingency table showing the distribution of the two categorical variables\n",
        "contingency_table = pd.crosstab(df2['converted'], df2['language_preferred'])\n",
        "contingency_table"
      ],
      "metadata": {
        "colab": {
          "base_uri": "https://localhost:8080/",
          "height": 143
        },
        "id": "4oDHPOLyVRXu",
        "outputId": "10d75a0d-232f-49e1-baa3-12238d53271d"
      },
      "id": "4oDHPOLyVRXu",
      "execution_count": 79,
      "outputs": [
        {
          "output_type": "execute_result",
          "data": {
            "text/plain": [
              "language_preferred  English  French  Spanish\n",
              "converted                                   \n",
              "no                       11      19       16\n",
              "yes                      21      15       18"
            ],
            "text/html": [
              "\n",
              "  <div id=\"df-5f813864-20b0-4c12-bfe6-08c7f734b3e6\" class=\"colab-df-container\">\n",
              "    <div>\n",
              "<style scoped>\n",
              "    .dataframe tbody tr th:only-of-type {\n",
              "        vertical-align: middle;\n",
              "    }\n",
              "\n",
              "    .dataframe tbody tr th {\n",
              "        vertical-align: top;\n",
              "    }\n",
              "\n",
              "    .dataframe thead th {\n",
              "        text-align: right;\n",
              "    }\n",
              "</style>\n",
              "<table border=\"1\" class=\"dataframe\">\n",
              "  <thead>\n",
              "    <tr style=\"text-align: right;\">\n",
              "      <th>language_preferred</th>\n",
              "      <th>English</th>\n",
              "      <th>French</th>\n",
              "      <th>Spanish</th>\n",
              "    </tr>\n",
              "    <tr>\n",
              "      <th>converted</th>\n",
              "      <th></th>\n",
              "      <th></th>\n",
              "      <th></th>\n",
              "    </tr>\n",
              "  </thead>\n",
              "  <tbody>\n",
              "    <tr>\n",
              "      <th>no</th>\n",
              "      <td>11</td>\n",
              "      <td>19</td>\n",
              "      <td>16</td>\n",
              "    </tr>\n",
              "    <tr>\n",
              "      <th>yes</th>\n",
              "      <td>21</td>\n",
              "      <td>15</td>\n",
              "      <td>18</td>\n",
              "    </tr>\n",
              "  </tbody>\n",
              "</table>\n",
              "</div>\n",
              "    <div class=\"colab-df-buttons\">\n",
              "\n",
              "  <div class=\"colab-df-container\">\n",
              "    <button class=\"colab-df-convert\" onclick=\"convertToInteractive('df-5f813864-20b0-4c12-bfe6-08c7f734b3e6')\"\n",
              "            title=\"Convert this dataframe to an interactive table.\"\n",
              "            style=\"display:none;\">\n",
              "\n",
              "  <svg xmlns=\"http://www.w3.org/2000/svg\" height=\"24px\" viewBox=\"0 -960 960 960\">\n",
              "    <path d=\"M120-120v-720h720v720H120Zm60-500h600v-160H180v160Zm220 220h160v-160H400v160Zm0 220h160v-160H400v160ZM180-400h160v-160H180v160Zm440 0h160v-160H620v160ZM180-180h160v-160H180v160Zm440 0h160v-160H620v160Z\"/>\n",
              "  </svg>\n",
              "    </button>\n",
              "\n",
              "  <style>\n",
              "    .colab-df-container {\n",
              "      display:flex;\n",
              "      gap: 12px;\n",
              "    }\n",
              "\n",
              "    .colab-df-convert {\n",
              "      background-color: #E8F0FE;\n",
              "      border: none;\n",
              "      border-radius: 50%;\n",
              "      cursor: pointer;\n",
              "      display: none;\n",
              "      fill: #1967D2;\n",
              "      height: 32px;\n",
              "      padding: 0 0 0 0;\n",
              "      width: 32px;\n",
              "    }\n",
              "\n",
              "    .colab-df-convert:hover {\n",
              "      background-color: #E2EBFA;\n",
              "      box-shadow: 0px 1px 2px rgba(60, 64, 67, 0.3), 0px 1px 3px 1px rgba(60, 64, 67, 0.15);\n",
              "      fill: #174EA6;\n",
              "    }\n",
              "\n",
              "    .colab-df-buttons div {\n",
              "      margin-bottom: 4px;\n",
              "    }\n",
              "\n",
              "    [theme=dark] .colab-df-convert {\n",
              "      background-color: #3B4455;\n",
              "      fill: #D2E3FC;\n",
              "    }\n",
              "\n",
              "    [theme=dark] .colab-df-convert:hover {\n",
              "      background-color: #434B5C;\n",
              "      box-shadow: 0px 1px 3px 1px rgba(0, 0, 0, 0.15);\n",
              "      filter: drop-shadow(0px 1px 2px rgba(0, 0, 0, 0.3));\n",
              "      fill: #FFFFFF;\n",
              "    }\n",
              "  </style>\n",
              "\n",
              "    <script>\n",
              "      const buttonEl =\n",
              "        document.querySelector('#df-5f813864-20b0-4c12-bfe6-08c7f734b3e6 button.colab-df-convert');\n",
              "      buttonEl.style.display =\n",
              "        google.colab.kernel.accessAllowed ? 'block' : 'none';\n",
              "\n",
              "      async function convertToInteractive(key) {\n",
              "        const element = document.querySelector('#df-5f813864-20b0-4c12-bfe6-08c7f734b3e6');\n",
              "        const dataTable =\n",
              "          await google.colab.kernel.invokeFunction('convertToInteractive',\n",
              "                                                    [key], {});\n",
              "        if (!dataTable) return;\n",
              "\n",
              "        const docLinkHtml = 'Like what you see? Visit the ' +\n",
              "          '<a target=\"_blank\" href=https://colab.research.google.com/notebooks/data_table.ipynb>data table notebook</a>'\n",
              "          + ' to learn more about interactive tables.';\n",
              "        element.innerHTML = '';\n",
              "        dataTable['output_type'] = 'display_data';\n",
              "        await google.colab.output.renderOutput(dataTable, element);\n",
              "        const docLink = document.createElement('div');\n",
              "        docLink.innerHTML = docLinkHtml;\n",
              "        element.appendChild(docLink);\n",
              "      }\n",
              "    </script>\n",
              "  </div>\n",
              "\n",
              "\n",
              "<div id=\"df-e8120b79-b77b-4cb1-827d-acbde8d65651\">\n",
              "  <button class=\"colab-df-quickchart\" onclick=\"quickchart('df-e8120b79-b77b-4cb1-827d-acbde8d65651')\"\n",
              "            title=\"Suggest charts\"\n",
              "            style=\"display:none;\">\n",
              "\n",
              "<svg xmlns=\"http://www.w3.org/2000/svg\" height=\"24px\"viewBox=\"0 0 24 24\"\n",
              "     width=\"24px\">\n",
              "    <g>\n",
              "        <path d=\"M19 3H5c-1.1 0-2 .9-2 2v14c0 1.1.9 2 2 2h14c1.1 0 2-.9 2-2V5c0-1.1-.9-2-2-2zM9 17H7v-7h2v7zm4 0h-2V7h2v10zm4 0h-2v-4h2v4z\"/>\n",
              "    </g>\n",
              "</svg>\n",
              "  </button>\n",
              "\n",
              "<style>\n",
              "  .colab-df-quickchart {\n",
              "      --bg-color: #E8F0FE;\n",
              "      --fill-color: #1967D2;\n",
              "      --hover-bg-color: #E2EBFA;\n",
              "      --hover-fill-color: #174EA6;\n",
              "      --disabled-fill-color: #AAA;\n",
              "      --disabled-bg-color: #DDD;\n",
              "  }\n",
              "\n",
              "  [theme=dark] .colab-df-quickchart {\n",
              "      --bg-color: #3B4455;\n",
              "      --fill-color: #D2E3FC;\n",
              "      --hover-bg-color: #434B5C;\n",
              "      --hover-fill-color: #FFFFFF;\n",
              "      --disabled-bg-color: #3B4455;\n",
              "      --disabled-fill-color: #666;\n",
              "  }\n",
              "\n",
              "  .colab-df-quickchart {\n",
              "    background-color: var(--bg-color);\n",
              "    border: none;\n",
              "    border-radius: 50%;\n",
              "    cursor: pointer;\n",
              "    display: none;\n",
              "    fill: var(--fill-color);\n",
              "    height: 32px;\n",
              "    padding: 0;\n",
              "    width: 32px;\n",
              "  }\n",
              "\n",
              "  .colab-df-quickchart:hover {\n",
              "    background-color: var(--hover-bg-color);\n",
              "    box-shadow: 0 1px 2px rgba(60, 64, 67, 0.3), 0 1px 3px 1px rgba(60, 64, 67, 0.15);\n",
              "    fill: var(--button-hover-fill-color);\n",
              "  }\n",
              "\n",
              "  .colab-df-quickchart-complete:disabled,\n",
              "  .colab-df-quickchart-complete:disabled:hover {\n",
              "    background-color: var(--disabled-bg-color);\n",
              "    fill: var(--disabled-fill-color);\n",
              "    box-shadow: none;\n",
              "  }\n",
              "\n",
              "  .colab-df-spinner {\n",
              "    border: 2px solid var(--fill-color);\n",
              "    border-color: transparent;\n",
              "    border-bottom-color: var(--fill-color);\n",
              "    animation:\n",
              "      spin 1s steps(1) infinite;\n",
              "  }\n",
              "\n",
              "  @keyframes spin {\n",
              "    0% {\n",
              "      border-color: transparent;\n",
              "      border-bottom-color: var(--fill-color);\n",
              "      border-left-color: var(--fill-color);\n",
              "    }\n",
              "    20% {\n",
              "      border-color: transparent;\n",
              "      border-left-color: var(--fill-color);\n",
              "      border-top-color: var(--fill-color);\n",
              "    }\n",
              "    30% {\n",
              "      border-color: transparent;\n",
              "      border-left-color: var(--fill-color);\n",
              "      border-top-color: var(--fill-color);\n",
              "      border-right-color: var(--fill-color);\n",
              "    }\n",
              "    40% {\n",
              "      border-color: transparent;\n",
              "      border-right-color: var(--fill-color);\n",
              "      border-top-color: var(--fill-color);\n",
              "    }\n",
              "    60% {\n",
              "      border-color: transparent;\n",
              "      border-right-color: var(--fill-color);\n",
              "    }\n",
              "    80% {\n",
              "      border-color: transparent;\n",
              "      border-right-color: var(--fill-color);\n",
              "      border-bottom-color: var(--fill-color);\n",
              "    }\n",
              "    90% {\n",
              "      border-color: transparent;\n",
              "      border-bottom-color: var(--fill-color);\n",
              "    }\n",
              "  }\n",
              "</style>\n",
              "\n",
              "  <script>\n",
              "    async function quickchart(key) {\n",
              "      const quickchartButtonEl =\n",
              "        document.querySelector('#' + key + ' button');\n",
              "      quickchartButtonEl.disabled = true;  // To prevent multiple clicks.\n",
              "      quickchartButtonEl.classList.add('colab-df-spinner');\n",
              "      try {\n",
              "        const charts = await google.colab.kernel.invokeFunction(\n",
              "            'suggestCharts', [key], {});\n",
              "      } catch (error) {\n",
              "        console.error('Error during call to suggestCharts:', error);\n",
              "      }\n",
              "      quickchartButtonEl.classList.remove('colab-df-spinner');\n",
              "      quickchartButtonEl.classList.add('colab-df-quickchart-complete');\n",
              "    }\n",
              "    (() => {\n",
              "      let quickchartButtonEl =\n",
              "        document.querySelector('#df-e8120b79-b77b-4cb1-827d-acbde8d65651 button');\n",
              "      quickchartButtonEl.style.display =\n",
              "        google.colab.kernel.accessAllowed ? 'block' : 'none';\n",
              "    })();\n",
              "  </script>\n",
              "</div>\n",
              "    </div>\n",
              "  </div>\n"
            ]
          },
          "metadata": {},
          "execution_count": 79
        }
      ]
    },
    {
      "cell_type": "markdown",
      "source": [
        "#Step 5: Calculate the p-value"
      ],
      "metadata": {
        "id": "FT9yVTTTiI4B"
      },
      "id": "FT9yVTTTiI4B"
    },
    {
      "cell_type": "code",
      "source": [
        "# Import the required function\n",
        "from scipy.stats import chi2_contingency\n",
        "\n",
        "# Write the code to calculate the p-value\n",
        "chi2, p_value, dof, exp_freq = chi2_contingency(contingency_table)\n",
        "\n",
        "print('The p-value is', p_value)\n"
      ],
      "metadata": {
        "colab": {
          "base_uri": "https://localhost:8080/"
        },
        "id": "fIseCMoNiVfo",
        "outputId": "44f03864-1af7-4d64-a1e4-56e124e3cedc"
      },
      "id": "fIseCMoNiVfo",
      "execution_count": 80,
      "outputs": [
        {
          "output_type": "stream",
          "name": "stdout",
          "text": [
            "The p-value is 0.21298887487543447\n"
          ]
        }
      ]
    },
    {
      "cell_type": "markdown",
      "source": [
        "Since 0.213 > 0.05, the p-value exceeds the common threshold for statistical significance.\n",
        "\n",
        "we fail to reject the null hypothesis."
      ],
      "metadata": {
        "id": "vxPBKu4wipUQ"
      },
      "id": "vxPBKu4wipUQ"
    },
    {
      "cell_type": "markdown",
      "source": [
        "#Step 6: Compare the p-value with 𝛼"
      ],
      "metadata": {
        "id": "BPP93s4LjOuS"
      },
      "id": "BPP93s4LjOuS"
    },
    {
      "cell_type": "code",
      "source": [
        "# print the conclusion based on p-value\n",
        "if p_value < 0.05:\n",
        "    print(f'As the p-value {p_value} is less than the level of significance, we reject the null hypothesis.')\n",
        "else:\n",
        "    print(f'As the p-value {p_value} is greater than the level of significance, we fail to reject the null hypothesis.')"
      ],
      "metadata": {
        "colab": {
          "base_uri": "https://localhost:8080/"
        },
        "id": "ZaDk0vTljZFn",
        "outputId": "823fb989-dac1-4f32-9a42-f22c7fb86502"
      },
      "id": "ZaDk0vTljZFn",
      "execution_count": 81,
      "outputs": [
        {
          "output_type": "stream",
          "name": "stdout",
          "text": [
            "As the p-value 0.21298887487543447 is greater than the level of significance, we fail to reject the null hypothesis.\n"
          ]
        }
      ]
    },
    {
      "cell_type": "markdown",
      "source": [
        "#Step 7: Draw inference"
      ],
      "metadata": {
        "id": "XGdftn4qjh2s"
      },
      "id": "XGdftn4qjh2s"
    },
    {
      "cell_type": "markdown",
      "source": [
        "we fail to reject the null hypothesis of the Chi-Square Test of Independence. Independence of Variables: This suggests that there is not enough statistical evidence to conclude that there is a significant association between the two categorical variables being tested (such as conversion status and preferred language).\n",
        "\n",
        "Practical Implication:\n",
        "\n",
        "In practical terms, this means that, based on the provided data, conversion status does not appear to be dependent on the preferred language. The two variables seem to operate independently of each other in the context of the data analyzed."
      ],
      "metadata": {
        "id": "D0WiQVfDjmuJ"
      },
      "id": "D0WiQVfDjmuJ"
    },
    {
      "cell_type": "markdown",
      "metadata": {
        "id": "8d585a90"
      },
      "source": [
        "## 4. Is the time spent on the new page same for the different language users?"
      ],
      "id": "8d585a90"
    },
    {
      "cell_type": "markdown",
      "source": [
        "#Perform Visual Analysis"
      ],
      "metadata": {
        "id": "JuYTY6LCkW2h"
      },
      "id": "JuYTY6LCkW2h"
    },
    {
      "cell_type": "code",
      "source": [
        "\n",
        "# Filter the data for users on the new landing page\n",
        "new_page_data = df2[df2['landing_page'] == 'new']\n",
        "\n",
        "# Create a boxplot\n",
        "plt.figure(figsize=(10, 6))\n",
        "sns.boxplot(x='language_preferred', y='time_spent_on_the_page', data=new_page_data)\n",
        "plt.title('Time Spent on New Page by Language')\n",
        "plt.xlabel('Preferred Language')\n",
        "plt.ylabel('Time Spent on the Page (minutes)')\n",
        "plt.show()\n"
      ],
      "metadata": {
        "colab": {
          "base_uri": "https://localhost:8080/",
          "height": 564
        },
        "id": "QAWlQCKJkYc8",
        "outputId": "0e2b2a03-c611-4dc5-c4cf-f60bf9f6706c"
      },
      "id": "QAWlQCKJkYc8",
      "execution_count": 83,
      "outputs": [
        {
          "output_type": "display_data",
          "data": {
            "text/plain": [
              "<Figure size 1000x600 with 1 Axes>"
            ],
            "image/png": "[encoded data removed]"
          },
          "metadata": {}
        }
      ]
    },
    {
      "cell_type": "markdown",
      "source": [
        "Significant differences in the median lines across language groups suggests variations in time spent on the new page by users of different languages."
      ],
      "metadata": {
        "id": "aK6XZ918k7rG"
      },
      "id": "aK6XZ918k7rG"
    },
    {
      "cell_type": "code",
      "source": [
        "new_page_data.groupby(['language_preferred'])['time_spent_on_the_page'].mean()\n"
      ],
      "metadata": {
        "colab": {
          "base_uri": "https://localhost:8080/"
        },
        "id": "SatGTNvdlnii",
        "outputId": "c99b6191-c676-482f-8102-5cf79607f83d"
      },
      "id": "SatGTNvdlnii",
      "execution_count": 86,
      "outputs": [
        {
          "output_type": "execute_result",
          "data": {
            "text/plain": [
              "language_preferred\n",
              "English    6.663750\n",
              "French     6.196471\n",
              "Spanish    5.835294\n",
              "Name: time_spent_on_the_page, dtype: float64"
            ]
          },
          "metadata": {},
          "execution_count": 86
        }
      ]
    },
    {
      "cell_type": "markdown",
      "source": [
        "#Step 1: Define the null and alternate hypotheses"
      ],
      "metadata": {
        "id": "8l6eC1iBk0AR"
      },
      "id": "8l6eC1iBk0AR"
    },
    {
      "cell_type": "markdown",
      "source": [
        "\n",
        "Null Hypothesis;\n",
        "H0: The mean time spent on the new landing page is the same across all language preferences.\n",
        "\n",
        "\n",
        "Alternative Hypothesis;\n",
        "Ha: The mean time spent on the new landing page is not the same across all language preferences."
      ],
      "metadata": {
        "id": "eSCoDepGk3Vf"
      },
      "id": "eSCoDepGk3Vf"
    },
    {
      "cell_type": "markdown",
      "source": [
        "#Step 2: Select Appropriate test"
      ],
      "metadata": {
        "id": "R46tdcrwlVz8"
      },
      "id": "R46tdcrwlVz8"
    },
    {
      "cell_type": "markdown",
      "source": [
        "For testing the hypothesis \"Is the time spent on the new page the same for different language users?\" where we are comparing the means of a continuous variable (time spent on the page) across multiple groups (different language preferences), the appropriate statistical test is One-Way ANOVA (Analysis of Variance).\n",
        "\n",
        "Why One-Way ANOVA?\n",
        "\n",
        "Multiple Groups Comparison:\n",
        "\n",
        " One-Way ANOVA is used when you want to compare the means of a continuous variable across more than two independent groups. In this case, these groups are the different language preferences. i.e, (there is a difference in the mean time spent on the new page among at least two language preferences.)\n",
        "\n",
        "Assumptions:\n",
        "\n",
        "This test assumes that the data for each group are normally distributed and have equal variances (homoscedasticity). However, it's robust to minor violations of these assumptions, especially with larger sample sizes.\n",
        "\n",
        "Testing for Mean Differences:\n",
        "\n",
        "ANOVA tests the null hypothesis that all groups have the same population mean. If the test finds significant differences, it suggests that at least one group differs from the others, but it doesn't specify which groups are different."
      ],
      "metadata": {
        "id": "mo9A7yJRlZdS"
      },
      "id": "mo9A7yJRlZdS"
    },
    {
      "cell_type": "markdown",
      "source": [
        "#Step 3: Decide the significance level"
      ],
      "metadata": {
        "id": "tqB33cnvm41Q"
      },
      "id": "tqB33cnvm41Q"
    },
    {
      "cell_type": "markdown",
      "source": [
        "As given in the problem statement, we select α = 0.05."
      ],
      "metadata": {
        "id": "jGsCZUc5m-uJ"
      },
      "id": "jGsCZUc5m-uJ"
    },
    {
      "cell_type": "markdown",
      "source": [
        "#Step 4: Collect and prepare data"
      ],
      "metadata": {
        "id": "bDUsn27znCDS"
      },
      "id": "bDUsn27znCDS"
    },
    {
      "cell_type": "code",
      "source": [
        "# create a subsetted data frame of the time spent on the new page by English language users\n",
        "time_spent_English = df2[df2['language_preferred']==\"English\"]['time_spent_on_the_page']\n",
        "\n",
        "# create subsetted data frames of the time spent on the new page by French and Spanish language users\n",
        "time_spent_French = df2[df2['language_preferred']==\"French\"]['time_spent_on_the_page']\n",
        "time_spent_Spanish = df2[df2['language_preferred']==\"Spanish\"]['time_spent_on_the_page']\n"
      ],
      "metadata": {
        "id": "m1ASNPZYnHu8"
      },
      "id": "m1ASNPZYnHu8",
      "execution_count": 88,
      "outputs": []
    },
    {
      "cell_type": "markdown",
      "source": [
        "#Step 5: Calculate the p-value\n",
        "\n"
      ],
      "metadata": {
        "id": "_UYkRr4bm8dX"
      },
      "id": "_UYkRr4bm8dX"
    },
    {
      "cell_type": "code",
      "source": [
        "# Import the required function\n",
        "from scipy.stats import f_oneway\n",
        "\n",
        "# Assuming time_spent_English, time_spent_French, and time_spent_Spanish are already defined\n",
        "# Write the code to calculate the p-value\n",
        "test_stat, p_value = f_oneway(time_spent_English, time_spent_French, time_spent_Spanish)\n",
        "\n",
        "print('The p-value is', p_value)\n"
      ],
      "metadata": {
        "colab": {
          "base_uri": "https://localhost:8080/"
        },
        "id": "ZSuNRJQ-n1FF",
        "outputId": "bc9911ce-d1e2-4b97-f42a-372b16a05db3"
      },
      "id": "ZSuNRJQ-n1FF",
      "execution_count": 89,
      "outputs": [
        {
          "output_type": "stream",
          "name": "stdout",
          "text": [
            "The p-value is 0.8665610536012648\n"
          ]
        }
      ]
    },
    {
      "cell_type": "markdown",
      "source": [
        "#Step 6: Compare the p-value with 𝛼"
      ],
      "metadata": {
        "id": "_zmQizM4oZus"
      },
      "id": "_zmQizM4oZus"
    },
    {
      "cell_type": "markdown",
      "source": [
        "Since the p-value (approximately 0.867) is greater than the significance level of 0.05, it is not lower than the typical threshold for declaring statistical significance.\n",
        "\n",
        "We fail to reject the null hypothesis."
      ],
      "metadata": {
        "id": "_60dazTJoeWZ"
      },
      "id": "_60dazTJoeWZ"
    },
    {
      "cell_type": "markdown",
      "source": [
        "#Step 7: Draw inference"
      ],
      "metadata": {
        "id": "YlzyqOrIo4Zh"
      },
      "id": "YlzyqOrIo4Zh"
    },
    {
      "cell_type": "markdown",
      "source": [
        "Fail to Reject the Null Hypothesis:\n",
        "\n",
        "Given that the p-value is higher than 0.05, we fail to reject the null hypothesis. This suggests that there is not enough statistical evidence to support the claim that the average time spent on the new page is different among users who prefer different languages.\n",
        "\n",
        "\n",
        "Interpretation:\n",
        "\n",
        "Based on this result, it would be inferred that the preference for English, French, or Spanish does not significantly affect the amount of time users spend on the new page. In other words, the time spent on the new page appears to be similar across these language preference groups."
      ],
      "metadata": {
        "id": "GEvzppHFo9R8"
      },
      "id": "GEvzppHFo9R8"
    },
    {
      "cell_type": "markdown",
      "metadata": {
        "id": "3acbc947"
      },
      "source": [
        "## Conclusion and Business Recommendations"
      ],
      "id": "3acbc947"
    },
    {
      "cell_type": "markdown",
      "metadata": {
        "id": "21fb1063"
      },
      "source": [
        "##Conclusions\n",
        "\n",
        "Comparison of Time Spent on New vs. Old Landing Page:\n",
        "\n",
        "There was a significant difference in the time users spent on the new landing page compared to the old one. Users generally spent more time on the new page, suggesting higher engagement or interest.\n",
        "\n",
        "Conversion Rates on New vs. Old Landing Page:\n",
        "\n",
        "The conversion rate was found to be significantly higher for the new landing page compared to the old one. This indicates that the new page is more effective at converting visitors.\n",
        "\n",
        "Relationship Between Conversion and Preferred Language:\n",
        "\n",
        "The analysis did not find a significant association between the conversion status and preferred language. This suggests that the likelihood of conversion is independent of the user's language preference.\n",
        "\n",
        "Time Spent on New Page by Language Preference:\n",
        "\n",
        "There was no significant difference in the time spent on the new page among users of different language preferences. This implies that the new page is equally engaging across different language groups.\n",
        "\n",
        "\n",
        "##Business Recommendations\n",
        "Focus on the New Landing Page:\n",
        "\n",
        "Given its higher engagement and conversion rates, prioritize and continue developing the new landing page. Consider allocating more resources to its optimization and promotion.\n",
        "\n",
        "Language Neutral Strategies:\n",
        "\n",
        "Since conversion rates and time spent on the page are not significantly affected by language preferences, continue to adopt language-neutral strategies in design and content. However, maintaining multilingual support remains essential for inclusivity and broader reach.\n",
        "\n",
        "Further Optimization and Testing:\n",
        "\n",
        "Regularly update and test various elements of the new landing page (like CTAs, layout, and content) to further optimize user engagement and conversion rates.\n",
        "\n",
        "User Experience Analysis:\n",
        "\n",
        "Conduct qualitative research, such as user feedback surveys or usability testing, to gain insights into why users spend more time on the new page and why they are more likely to convert there. This can guide more targeted improvements.\n",
        "\n",
        "Monitor Performance Across Segments:\n",
        "\n",
        "Continuously monitor the performance of the landing page across different user segments. Even though no significant differences were found in this analysis, user preferences and behaviors can evolve over time.\n",
        "\n",
        "Data-Driven Decision Making:\n",
        "\n",
        "Maintain a data-driven approach for decision making. Regularly review and analyze user data to inform strategies and adapt to changing user needs and market trends.\n",
        "\n",
        "##conclusion\n",
        "In conclusion, the new landing page has proven to be more effective in engaging users and converting them. It's recommended to focus on optimizing this page while continuing to monitor user behavior and performance metrics to adapt and refine strategies over time."
      ],
      "id": "21fb1063"
    },
    {
      "cell_type": "markdown",
      "source": [
        "___"
      ],
      "metadata": {
        "id": "U0dAd4i0iCHo"
      },
      "id": "U0dAd4i0iCHo"
    }
  ]
}