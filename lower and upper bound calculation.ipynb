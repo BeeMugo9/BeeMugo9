{
  "nbformat": 4,
  "nbformat_minor": 0,
  "metadata": {
    "colab": {
      "provenance": [],
      "authorship_tag": "ABX9TyPW9U78N/Zl1A7XSXxHp1+f",
      "include_colab_link": true
    },
    "kernelspec": {
      "name": "python3",
      "display_name": "Python 3"
    },
    "language_info": {
      "name": "python"
    }
  },
  "cells": [
    {
      "cell_type": "markdown",
      "metadata": {
        "id": "view-in-github",
        "colab_type": "text"
      },
      "source": [
        "<a href=\"https://colab.research.google.com/github/BeeMugo9/BeeMugo9/blob/main/lower%20and%20upper%20bound%20calculation.ipynb\" target=\"_parent\"><img src=\"https://colab.research.google.com/assets/colab-badge.svg\" alt=\"Open In Colab\"/></a>"
      ]
    },
    {
      "cell_type": "code",
      "execution_count": 1,
      "metadata": {
        "id": "Mnzsj73zazPR"
      },
      "outputs": [],
      "source": [
        "# import libraries for data manipulation\n",
        "import numpy as np\n",
        "import pandas as pd\n",
        "\n",
        "# import libraries for data visualization\n",
        "import matplotlib.pyplot as plt\n",
        "import seaborn as sns"
      ]
    },
    {
      "cell_type": "code",
      "source": [
        "import scipy.stats as stats"
      ],
      "metadata": {
        "id": "zPMZCpQqbHgP"
      },
      "execution_count": 2,
      "outputs": []
    },
    {
      "cell_type": "code",
      "source": [
        "# Given values\n",
        "population_std_dev = 0.2  # population standard deviation in mm\n",
        "sample_size = 35  # sample size\n",
        "\n",
        "# Calculating the standard deviation (standard error) of the sampling distribution\n",
        "sampling_distribution_std_dev = population_std_dev / np.sqrt(sample_size)\n",
        "sampling_distribution_std_dev\n"
      ],
      "metadata": {
        "colab": {
          "base_uri": "https://localhost:8080/"
        },
        "id": "hJnRQkA2bK07",
        "outputId": "a14c5635-d8de-4d5a-b04b-776de9998f21"
      },
      "execution_count": 3,
      "outputs": [
        {
          "output_type": "execute_result",
          "data": {
            "text/plain": [
              "0.033806170189140665"
            ]
          },
          "metadata": {},
          "execution_count": 3
        }
      ]
    },
    {
      "cell_type": "code",
      "source": [
        "import numpy as np\n",
        "from scipy.stats import norm\n",
        "\n",
        "# Given data\n",
        "mean = 43  # sample mean\n",
        "std_dev = 3.6  # sample standard deviation\n",
        "sample_size = 100  # number of samples\n",
        "\n",
        "# Z-score for 95% confidence\n",
        "z_score = norm.ppf(0.975)  # two-tailed test\n",
        "\n",
        "# Calculating the margin of error\n",
        "margin_of_error = z_score * (std_dev / np.sqrt(sample_size))\n",
        "\n",
        "# Calculating the confidence interval\n",
        "lower_bound = mean - margin_of_error\n",
        "upper_bound = mean + margin_of_error\n",
        "\n",
        "# The confidence interval\n",
        "(lower_bound, upper_bound)\n"
      ],
      "metadata": {
        "colab": {
          "base_uri": "https://localhost:8080/"
        },
        "id": "stsCbW_EfeSF",
        "outputId": "474b7f0d-1971-465b-99a3-8b48b6904722"
      },
      "execution_count": 4,
      "outputs": [
        {
          "output_type": "execute_result",
          "data": {
            "text/plain": [
              "(42.29441296556558, 43.70558703443442)"
            ]
          },
          "metadata": {},
          "execution_count": 4
        }
      ]
    }
  ]
}