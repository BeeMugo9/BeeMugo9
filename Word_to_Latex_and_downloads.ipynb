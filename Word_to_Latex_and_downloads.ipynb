{
  "nbformat": 4,
  "nbformat_minor": 0,
  "metadata": {
    "colab": {
      "provenance": [],
      "authorship_tag": "ABX9TyOCh8J6rxJmhZw6zSR6MqEp",
      "include_colab_link": true
    },
    "kernelspec": {
      "name": "python3",
      "display_name": "Python 3"
    },
    "language_info": {
      "name": "python"
    }
  },
  "cells": [
    {
      "cell_type": "markdown",
      "metadata": {
        "id": "view-in-github",
        "colab_type": "text"
      },
      "source": [
        "<a href=\"https://colab.research.google.com/github/BeeMugo9/BeeMugo9/blob/main/Word_to_Latex_and_downloads.ipynb\" target=\"_parent\"><img src=\"https://colab.research.google.com/assets/colab-badge.svg\" alt=\"Open In Colab\"/></a>"
      ]
    },
    {
      "cell_type": "code",
      "source": [],
      "metadata": {
        "id": "BdfWqrCWWvy6"
      },
      "execution_count": null,
      "outputs": []
    },
    {
      "cell_type": "code",
      "execution_count": 1,
      "metadata": {
        "colab": {
          "base_uri": "https://localhost:8080/"
        },
        "id": "JXfxkO9DWlOg",
        "outputId": "d78413e5-daf9-46dd-ab75-3e163851c1d6"
      },
      "outputs": [
        {
          "output_type": "stream",
          "name": "stdout",
          "text": [
            "Collecting pylatex\n",
            "  Downloading PyLaTeX-1.4.2.tar.gz (59 kB)\n",
            "\u001b[?25l     \u001b[90m━━━━━━━━━━━━━━━━━━━━━━━━━━━━━━━━━━━━━━━━\u001b[0m \u001b[32m0.0/59.7 kB\u001b[0m \u001b[31m?\u001b[0m eta \u001b[36m-:--:--\u001b[0m\r\u001b[2K     \u001b[90m━━━━━━━━━━━━━━━━━━━━━━━━━━━━━━━━━━━━━━━━\u001b[0m \u001b[32m59.7/59.7 kB\u001b[0m \u001b[31m2.4 MB/s\u001b[0m eta \u001b[36m0:00:00\u001b[0m\n",
            "\u001b[?25h  Installing build dependencies ... \u001b[?25l\u001b[?25hdone\n",
            "  Getting requirements to build wheel ... \u001b[?25l\u001b[?25hdone\n",
            "  Preparing metadata (pyproject.toml) ... \u001b[?25l\u001b[?25hdone\n",
            "Collecting ordered-set (from pylatex)\n",
            "  Downloading ordered_set-4.1.0-py3-none-any.whl.metadata (5.3 kB)\n",
            "Downloading ordered_set-4.1.0-py3-none-any.whl (7.6 kB)\n",
            "Building wheels for collected packages: pylatex\n",
            "  Building wheel for pylatex (pyproject.toml) ... \u001b[?25l\u001b[?25hdone\n",
            "  Created wheel for pylatex: filename=PyLaTeX-1.4.2-py3-none-any.whl size=43574 sha256=aa128ef81ada8ef7c91c6ad5713fe75496f447e2f4347466a35004d464ed79a0\n",
            "  Stored in directory: /root/.cache/pip/wheels/a3/60/09/c6f9f98feac18da1b5fc02bd765c6b3cb9a0f75955a12b27ad\n",
            "Successfully built pylatex\n",
            "Installing collected packages: ordered-set, pylatex\n",
            "Successfully installed ordered-set-4.1.0 pylatex-1.4.2\n"
          ]
        }
      ],
      "source": [
        "!pip install pylatex"
      ]
    },
    {
      "cell_type": "code",
      "source": [
        "!pip install python-docx"
      ],
      "metadata": {
        "colab": {
          "base_uri": "https://localhost:8080/"
        },
        "id": "iaZDxmmmXDbm",
        "outputId": "5e9b92d7-f8b2-4911-a542-98f488cd4af1"
      },
      "execution_count": 3,
      "outputs": [
        {
          "output_type": "stream",
          "name": "stdout",
          "text": [
            "Collecting python-docx\n",
            "  Downloading python_docx-1.1.2-py3-none-any.whl.metadata (2.0 kB)\n",
            "Requirement already satisfied: lxml>=3.1.0 in /usr/local/lib/python3.10/dist-packages (from python-docx) (5.3.0)\n",
            "Requirement already satisfied: typing-extensions>=4.9.0 in /usr/local/lib/python3.10/dist-packages (from python-docx) (4.12.2)\n",
            "Downloading python_docx-1.1.2-py3-none-any.whl (244 kB)\n",
            "\u001b[2K   \u001b[90m━━━━━━━━━━━━━━━━━━━━━━━━━━━━━━━━━━━━━━━━\u001b[0m \u001b[32m244.3/244.3 kB\u001b[0m \u001b[31m3.3 MB/s\u001b[0m eta \u001b[36m0:00:00\u001b[0m\n",
            "\u001b[?25hInstalling collected packages: python-docx\n",
            "Successfully installed python-docx-1.1.2\n"
          ]
        }
      ]
    },
    {
      "cell_type": "code",
      "source": [
        "from docx import Document\n",
        "from pylatex import Document as LaTeXDocument, Section, Command\n",
        "from pylatex.utils import escape_latex\n",
        "import os\n",
        "\n",
        "def convert_word_to_latex(word_file_path, output_directory):\n",
        "    \"\"\"\n",
        "    Converts a Word document to a LaTeX file and saves images from the Word document.\n",
        "\n",
        "    :param word_file_path: Path to the Word (.docx) file\n",
        "    :param output_directory: Directory where the LaTeX file and images will be saved\n",
        "    \"\"\"\n",
        "    # Create output directory for LaTeX and images\n",
        "    if not os.path.exists(output_directory):\n",
        "        os.makedirs(output_directory)\n",
        "\n",
        "    # Load the Word document\n",
        "    doc = Document(word_file_path)\n",
        "    images_dir = os.path.join(output_directory, \"images\")\n",
        "    if not os.path.exists(images_dir):\n",
        "        os.makedirs(images_dir)\n",
        "\n",
        "    # Initialize LaTeX document\n",
        "    latex_doc = LaTeXDocument()\n",
        "    latex_doc.preamble.append(Command('usepackage', 'graphicx'))\n",
        "\n",
        "    # Process paragraphs and add text to LaTeX\n",
        "    for paragraph in doc.paragraphs:\n",
        "        text = paragraph.text.strip()\n",
        "        if text:\n",
        "            latex_doc.append(escape_latex(text))\n",
        "            latex_doc.append(\"\\n\\n\")\n",
        "\n",
        "    # Process images and add them to LaTeX\n",
        "    for i, rel in enumerate(doc.part.rels.values()):\n",
        "        if \"image\" in rel.target_ref:\n",
        "            image_data = rel.target_part.blob\n",
        "            image_path = os.path.join(images_dir, f\"image_{i + 1}.png\")\n",
        "            with open(image_path, \"wb\") as img_file:\n",
        "                img_file.write(image_data)\n",
        "\n",
        "            # Add image to the LaTeX document\n",
        "            latex_doc.append(Command(\"includegraphics\", options=\"width=0.8\\\\textwidth\", arguments=image_path))\n",
        "            latex_doc.append(\"\\n\")\n",
        "\n",
        "    # Save the LaTeX document\n",
        "    latex_file_path = os.path.join(output_directory, \"output.tex\")\n",
        "    with open(latex_file_path, \"w\") as latex_file:\n",
        "        latex_file.write(latex_doc.dumps())\n",
        "\n",
        "    print(f\"LaTeX file saved to: {latex_file_path}\")\n",
        "    print(f\"Images saved to: {images_dir}\")\n",
        "\n",
        "# Usage example\n",
        "word_file = \"/content/Ensemble techniques paper.docx\"  # Correct Word file path\n",
        "output_dir = \"/content/Ensemble techniques paper\"  # Correct output directory\n",
        "convert_word_to_latex(word_file, output_dir)\n",
        "\n"
      ],
      "metadata": {
        "colab": {
          "base_uri": "https://localhost:8080/"
        },
        "id": "3faalLGEW26j",
        "outputId": "154d5db0-b5f9-4432-c72a-67df49ee5f8c"
      },
      "execution_count": 4,
      "outputs": [
        {
          "output_type": "stream",
          "name": "stdout",
          "text": [
            "LaTeX file saved to: /content/Ensemble techniques paper/output.tex\n",
            "Images saved to: /content/Ensemble techniques paper/images\n"
          ]
        }
      ]
    },
    {
      "cell_type": "code",
      "source": [
        "import shutil\n",
        "shutil.make_archive('/content/images', 'zip', '/content/Ensemble techniques paper/images')\n"
      ],
      "metadata": {
        "colab": {
          "base_uri": "https://localhost:8080/",
          "height": 36
        },
        "id": "v8JdJakYXJIs",
        "outputId": "7996904d-eae7-4579-eba7-c421c6597af6"
      },
      "execution_count": 5,
      "outputs": [
        {
          "output_type": "execute_result",
          "data": {
            "text/plain": [
              "'/content/images.zip'"
            ],
            "application/vnd.google.colaboratory.intrinsic+json": {
              "type": "string"
            }
          },
          "metadata": {},
          "execution_count": 5
        }
      ]
    },
    {
      "cell_type": "code",
      "source": [
        "from google.colab import files\n",
        "\n",
        "# Download the zipped images folder\n",
        "files.download('/content/images.zip')\n"
      ],
      "metadata": {
        "colab": {
          "base_uri": "https://localhost:8080/",
          "height": 17
        },
        "id": "7KTBVuXzXNg5",
        "outputId": "83bf9449-8f92-461e-c825-ac84c0f2d29e"
      },
      "execution_count": 6,
      "outputs": [
        {
          "output_type": "display_data",
          "data": {
            "text/plain": [
              "<IPython.core.display.Javascript object>"
            ],
            "application/javascript": [
              "\n",
              "    async function download(id, filename, size) {\n",
              "      if (!google.colab.kernel.accessAllowed) {\n",
              "        return;\n",
              "      }\n",
              "      const div = document.createElement('div');\n",
              "      const label = document.createElement('label');\n",
              "      label.textContent = `Downloading \"${filename}\": `;\n",
              "      div.appendChild(label);\n",
              "      const progress = document.createElement('progress');\n",
              "      progress.max = size;\n",
              "      div.appendChild(progress);\n",
              "      document.body.appendChild(div);\n",
              "\n",
              "      const buffers = [];\n",
              "      let downloaded = 0;\n",
              "\n",
              "      const channel = await google.colab.kernel.comms.open(id);\n",
              "      // Send a message to notify the kernel that we're ready.\n",
              "      channel.send({})\n",
              "\n",
              "      for await (const message of channel.messages) {\n",
              "        // Send a message to notify the kernel that we're ready.\n",
              "        channel.send({})\n",
              "        if (message.buffers) {\n",
              "          for (const buffer of message.buffers) {\n",
              "            buffers.push(buffer);\n",
              "            downloaded += buffer.byteLength;\n",
              "            progress.value = downloaded;\n",
              "          }\n",
              "        }\n",
              "      }\n",
              "      const blob = new Blob(buffers, {type: 'application/binary'});\n",
              "      const a = document.createElement('a');\n",
              "      a.href = window.URL.createObjectURL(blob);\n",
              "      a.download = filename;\n",
              "      div.appendChild(a);\n",
              "      a.click();\n",
              "      div.remove();\n",
              "    }\n",
              "  "
            ]
          },
          "metadata": {}
        },
        {
          "output_type": "display_data",
          "data": {
            "text/plain": [
              "<IPython.core.display.Javascript object>"
            ],
            "application/javascript": [
              "download(\"download_6a0f5ef1-3d28-4235-86f2-d7d144fa9cff\", \"images.zip\", 697910)"
            ]
          },
          "metadata": {}
        }
      ]
    },
    {
      "cell_type": "code",
      "source": [
        "from google.colab import files\n",
        "files.download('/content/Ensemble techniques paper/output.tex')  # Path to your .tex file\n"
      ],
      "metadata": {
        "colab": {
          "base_uri": "https://localhost:8080/",
          "height": 17
        },
        "id": "GEv7KBQiXWbd",
        "outputId": "7a8839bd-8762-4009-945b-10eeb1ddefc8"
      },
      "execution_count": 7,
      "outputs": [
        {
          "output_type": "display_data",
          "data": {
            "text/plain": [
              "<IPython.core.display.Javascript object>"
            ],
            "application/javascript": [
              "\n",
              "    async function download(id, filename, size) {\n",
              "      if (!google.colab.kernel.accessAllowed) {\n",
              "        return;\n",
              "      }\n",
              "      const div = document.createElement('div');\n",
              "      const label = document.createElement('label');\n",
              "      label.textContent = `Downloading \"${filename}\": `;\n",
              "      div.appendChild(label);\n",
              "      const progress = document.createElement('progress');\n",
              "      progress.max = size;\n",
              "      div.appendChild(progress);\n",
              "      document.body.appendChild(div);\n",
              "\n",
              "      const buffers = [];\n",
              "      let downloaded = 0;\n",
              "\n",
              "      const channel = await google.colab.kernel.comms.open(id);\n",
              "      // Send a message to notify the kernel that we're ready.\n",
              "      channel.send({})\n",
              "\n",
              "      for await (const message of channel.messages) {\n",
              "        // Send a message to notify the kernel that we're ready.\n",
              "        channel.send({})\n",
              "        if (message.buffers) {\n",
              "          for (const buffer of message.buffers) {\n",
              "            buffers.push(buffer);\n",
              "            downloaded += buffer.byteLength;\n",
              "            progress.value = downloaded;\n",
              "          }\n",
              "        }\n",
              "      }\n",
              "      const blob = new Blob(buffers, {type: 'application/binary'});\n",
              "      const a = document.createElement('a');\n",
              "      a.href = window.URL.createObjectURL(blob);\n",
              "      a.download = filename;\n",
              "      div.appendChild(a);\n",
              "      a.click();\n",
              "      div.remove();\n",
              "    }\n",
              "  "
            ]
          },
          "metadata": {}
        },
        {
          "output_type": "display_data",
          "data": {
            "text/plain": [
              "<IPython.core.display.Javascript object>"
            ],
            "application/javascript": [
              "download(\"download_9349fa42-40c7-4b12-b5bc-85ab063132e5\", \"output.tex\", 65008)"
            ]
          },
          "metadata": {}
        }
      ]
    }
  ]
}