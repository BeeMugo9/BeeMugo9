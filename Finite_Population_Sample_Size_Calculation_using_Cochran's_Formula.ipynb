{
  "nbformat": 4,
  "nbformat_minor": 0,
  "metadata": {
    "colab": {
      "provenance": [],
      "authorship_tag": "ABX9TyPE6Dib8k9yXsz344T3awKB",
      "include_colab_link": true
    },
    "kernelspec": {
      "name": "python3",
      "display_name": "Python 3"
    },
    "language_info": {
      "name": "python"
    }
  },
  "cells": [
    {
      "cell_type": "markdown",
      "metadata": {
        "id": "view-in-github",
        "colab_type": "text"
      },
      "source": [
        "<a href=\"https://colab.research.google.com/github/BeeMugo9/BeeMugo9/blob/main/Finite_Population_Sample_Size_Calculation_using_Cochran's_Formula.ipynb\" target=\"_parent\"><img src=\"https://colab.research.google.com/assets/colab-badge.svg\" alt=\"Open In Colab\"/></a>"
      ]
    },
    {
      "cell_type": "code",
      "execution_count": 1,
      "metadata": {
        "id": "oOAAQP4qDKcW"
      },
      "outputs": [],
      "source": [
        "import math\n",
        "import scipy.stats as stats"
      ]
    },
    {
      "cell_type": "code",
      "source": [
        "# Population sizes for Year 2 and Year 3 students\n",
        "total_population_year_2 = 361 + 148  # Total Year 2 students\n",
        "total_population_year_3 = 436 + 170  # Total Year 3 students\n",
        "\n",
        "# Total population for Year 2 and Year 3\n",
        "total_population = total_population_year_2 + total_population_year_3\n",
        "\n",
        "# Calculating the proportion of Year 2 and Year 3 populations\n",
        "proportion_year_2 = total_population_year_2 / total_population\n",
        "proportion_year_3 = total_population_year_3 / total_population\n",
        "\n",
        "proportion_year_2, proportion_year_3"
      ],
      "metadata": {
        "colab": {
          "base_uri": "https://localhost:8080/"
        },
        "id": "S2PefFL9Dlot",
        "outputId": "b93136ec-b284-4492-ae8d-0c6dc4bd61fd"
      },
      "execution_count": 2,
      "outputs": [
        {
          "output_type": "execute_result",
          "data": {
            "text/plain": [
              "(0.4565022421524664, 0.5434977578475336)"
            ]
          },
          "metadata": {},
          "execution_count": 2
        }
      ]
    },
    {
      "cell_type": "code",
      "source": [
        "# Sample size calculation for finite populations\n",
        "def calculate_sample_size(N, p, z, e):\n",
        "    # Adjusting the formula for finite population correction\n",
        "    numerator = z**2 * p * (1 - p)\n",
        "    denominator = e**2 + (z**2 * p * (1 - p)) / N\n",
        "    sample_size = (N * numerator) / (N * denominator + numerator)\n",
        "    return math.ceil(sample_size)  # Rounding up to the nearest whole number\n",
        "\n",
        "# Population sizes\n",
        "total_population_year_2 = 361 + 148  # Total Year 2 students\n",
        "total_population_year_3 = 436 + 170  # Total Year 3 students\n",
        "\n",
        "# Previously calculated ratios converted to proportions\n",
        "p_year_2 = proportion_year_2  # Proportion for Year 2\n",
        "p_year_3 = proportion_year_3 # Proportion for Year 3\n",
        "\n",
        "# Constants\n",
        "z = 2.576 # Z-value for 95% CI\n",
        "e = 0.05  # Margin of error (5%)\n",
        "\n",
        "# Calculate sample sizes\n",
        "sample_size_year_2 = calculate_sample_size(total_population_year_2, p_year_2, z, e)\n",
        "sample_size_year_3 = calculate_sample_size(total_population_year_3, p_year_3, z, e)\n",
        "\n",
        "sample_size_year_2, sample_size_year_3"
      ],
      "metadata": {
        "colab": {
          "base_uri": "https://localhost:8080/"
        },
        "id": "poc7Wo4nDprL",
        "outputId": "999ebe5a-6ba7-440e-f98b-0e4aeb32b57f"
      },
      "execution_count": 3,
      "outputs": [
        {
          "output_type": "execute_result",
          "data": {
            "text/plain": [
              "(184, 208)"
            ]
          },
          "metadata": {},
          "execution_count": 3
        }
      ]
    },
    {
      "cell_type": "code",
      "source": [
        "# Calculating the number of Year 2 students to be interviewed from each university\n",
        "\n",
        "# Total number of Year 2 students at each university\n",
        "strathmore_year_2_students = 361\n",
        "kibabii_year_2_students = 148\n",
        "\n",
        "# Total Year 2 student population across both universities\n",
        "total_year_2_students = strathmore_year_2_students + kibabii_year_2_students\n",
        "\n",
        "# Total sample size for Year 2 students\n",
        "total_sample_size_year_2 = 184\n",
        "\n",
        "# Calculating the sample size for each university\n",
        "strathmore_sample_size = (strathmore_year_2_students / total_year_2_students) * total_sample_size_year_2\n",
        "kibabii_sample_size = (kibabii_year_2_students / total_year_2_students) * total_sample_size_year_2\n",
        "\n",
        "strathmore_sample_size, kibabii_sample_size\n",
        "# Rounding off the sample sizes to the nearest whole number\n",
        "strathmore_sample_size_rounded = round(strathmore_sample_size)\n",
        "kibabii_sample_size_rounded = round(kibabii_sample_size)\n",
        "\n",
        "strathmore_sample_size_rounded, kibabii_sample_size_rounded"
      ],
      "metadata": {
        "colab": {
          "base_uri": "https://localhost:8080/"
        },
        "id": "nC2fe--SDtuZ",
        "outputId": "3e66b062-2c73-426a-e684-184209c1f237"
      },
      "execution_count": 4,
      "outputs": [
        {
          "output_type": "execute_result",
          "data": {
            "text/plain": [
              "(130, 54)"
            ]
          },
          "metadata": {},
          "execution_count": 4
        }
      ]
    },
    {
      "cell_type": "code",
      "source": [
        "# Calculating the number of Year 3 students to be interviewed from each university\n",
        "\n",
        "# Total number of Year 3 students at each university\n",
        "strathmore_year_3_students = 436\n",
        "kibabii_year_3_students = 170\n",
        "\n",
        "# Total Year 3 student population across both universities\n",
        "total_year_3_students = strathmore_year_3_students + kibabii_year_3_students\n",
        "\n",
        "# Total sample size for Year 3 students\n",
        "total_sample_size_year_3 = 208\n",
        "\n",
        "# Calculating the sample size for each university\n",
        "strathmore_sample_size =(strathmore_year_3_students / total_year_3_students) * total_sample_size_year_3\n",
        "kibabii_sample_size = (kibabii_year_3_students / total_year_3_students) * total_sample_size_year_3\n",
        "\n",
        "strathmore_sample_size, kibabii_sample_size\n",
        "\n",
        "# Rounding off the sample sizes to the nearest whole number\n",
        "strathmore_sample_size_rounded = round(strathmore_sample_size)\n",
        "kibabii_sample_size_rounded = round(kibabii_sample_size)\n",
        "\n",
        "strathmore_sample_size_rounded, kibabii_sample_size_rounded"
      ],
      "metadata": {
        "colab": {
          "base_uri": "https://localhost:8080/"
        },
        "id": "ZN1UyqvKDym2",
        "outputId": "c1878282-a84f-40dd-9c75-c201bb332ccf"
      },
      "execution_count": 5,
      "outputs": [
        {
          "output_type": "execute_result",
          "data": {
            "text/plain": [
              "(150, 58)"
            ]
          },
          "metadata": {},
          "execution_count": 5
        }
      ]
    }
  ]
}